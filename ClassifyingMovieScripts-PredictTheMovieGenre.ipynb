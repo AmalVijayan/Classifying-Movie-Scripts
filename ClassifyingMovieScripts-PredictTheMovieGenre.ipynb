{
 "cells": [
  {
   "cell_type": "markdown",
   "metadata": {},
   "source": [
    "# Classifying Movie Scripts : Predict The Movie Genre\n",
    "---\n",
    "\n",
    "<img src=\"https://www.machinehack.com/wp-content/uploads/2020/03/Movie_scripts_Banner-scaled.jpg\" style=\"width:100%;height=900px\"/>\n",
    "\n",
    "### Problem Statement : Predict the genre of a movie from its script.\n",
    "\n",
    "### Data\n",
    "\n",
    "* Train.csv – 1978 script file names with the class labels.\n",
    "* Test.csv – 849 script file names without the class labels.\n",
    "* Scripts – Folder with 2827 scripts .txt files.\n",
    "* Sample Submission – Sample format for the submission.\n",
    "\n",
    "**Download the data from MachineHack**"
   ]
  },
  {
   "cell_type": "markdown",
   "metadata": {},
   "source": [
    "<h3 style=\"color:#ff4782;\">Contents</h3>\n",
    "\n",
    "___\n",
    "\n",
    "* <h4 style=\"color:#ff4782;\">1. Understanding the problem</h4>\n",
    "* <h4 style=\"color:#ff4782;\">2. Data Analysis</h4>\n",
    "<h5 style=\"color:#ff4782;\">--- 2.1. Distribution Of Classes</h5>\n",
    "<h5 style=\"color:#ff4782;\">--- 2.2. Feature Engineering</h5>\n",
    "* <h4 style=\"color:#ff4782;\">3. Data Preprocessing</h4>\n",
    "<h5 style=\"color:#ff4782;\">--- 3.1. TF-IDF Vectorizer</h5>\n",
    "* <h4 style=\"color:#ff4782;\">4. Training & Validation</h4>\n",
    "* <h4 style=\"color:#ff4782;\">5. Predicting For Test Data</h4>\n",
    "<h5 style=\"color:#ff4782;\">--- 5.1. Predicting With Engineered Feature</h5>\n",
    "---"
   ]
  },
  {
   "cell_type": "markdown",
   "metadata": {},
   "source": [
    "<h2 style=\"color:#ff4782;\">1. Understanding the problem</h2>\n",
    "\n",
    "---\n",
    "We are provided with two csv files and a directory with 2827 text files as the datasets for this problem. Lets have a look at these datasets."
   ]
  },
  {
   "cell_type": "code",
   "execution_count": 1,
   "metadata": {},
   "outputs": [],
   "source": [
    "import os\n",
    "import pandas as pd\n",
    "import numpy as np"
   ]
  },
  {
   "cell_type": "code",
   "execution_count": 2,
   "metadata": {},
   "outputs": [],
   "source": [
    "#loading the datasets\n",
    "\n",
    "data_path = \"/Users/amalnair/Documents/Amal-WorkSpace/MachineHack_Competitions/MovieScriptsClassification/Data\"\n",
    "\n",
    "train = pd.read_csv(data_path + os.sep + \"Train.csv\")\n",
    "test = pd.read_csv(data_path + os.sep + \"Test.csv\")\n",
    "\n",
    "\n",
    "scripts_path = data_path + os.sep + \"Scripts\""
   ]
  },
  {
   "cell_type": "code",
   "execution_count": 3,
   "metadata": {},
   "outputs": [
    {
     "data": {
      "text/html": [
       "<div>\n",
       "<style scoped>\n",
       "    .dataframe tbody tr th:only-of-type {\n",
       "        vertical-align: middle;\n",
       "    }\n",
       "\n",
       "    .dataframe tbody tr th {\n",
       "        vertical-align: top;\n",
       "    }\n",
       "\n",
       "    .dataframe thead th {\n",
       "        text-align: right;\n",
       "    }\n",
       "</style>\n",
       "<table border=\"1\" class=\"dataframe\">\n",
       "  <thead>\n",
       "    <tr style=\"text-align: right;\">\n",
       "      <th></th>\n",
       "      <th>File_Name</th>\n",
       "      <th>Labels</th>\n",
       "    </tr>\n",
       "  </thead>\n",
       "  <tbody>\n",
       "    <tr>\n",
       "      <th>0</th>\n",
       "      <td>file_2180.txt</td>\n",
       "      <td>8</td>\n",
       "    </tr>\n",
       "    <tr>\n",
       "      <th>1</th>\n",
       "      <td>file_693.txt</td>\n",
       "      <td>4</td>\n",
       "    </tr>\n",
       "    <tr>\n",
       "      <th>2</th>\n",
       "      <td>file_2469.txt</td>\n",
       "      <td>6</td>\n",
       "    </tr>\n",
       "    <tr>\n",
       "      <th>3</th>\n",
       "      <td>file_2542.txt</td>\n",
       "      <td>6</td>\n",
       "    </tr>\n",
       "    <tr>\n",
       "      <th>4</th>\n",
       "      <td>file_378.txt</td>\n",
       "      <td>16</td>\n",
       "    </tr>\n",
       "  </tbody>\n",
       "</table>\n",
       "</div>"
      ],
      "text/plain": [
       "       File_Name  Labels\n",
       "0  file_2180.txt       8\n",
       "1   file_693.txt       4\n",
       "2  file_2469.txt       6\n",
       "3  file_2542.txt       6\n",
       "4   file_378.txt      16"
      ]
     },
     "execution_count": 3,
     "metadata": {},
     "output_type": "execute_result"
    }
   ],
   "source": [
    "train.head(5)"
   ]
  },
  {
   "cell_type": "code",
   "execution_count": 4,
   "metadata": {},
   "outputs": [
    {
     "data": {
      "text/html": [
       "<div>\n",
       "<style scoped>\n",
       "    .dataframe tbody tr th:only-of-type {\n",
       "        vertical-align: middle;\n",
       "    }\n",
       "\n",
       "    .dataframe tbody tr th {\n",
       "        vertical-align: top;\n",
       "    }\n",
       "\n",
       "    .dataframe thead th {\n",
       "        text-align: right;\n",
       "    }\n",
       "</style>\n",
       "<table border=\"1\" class=\"dataframe\">\n",
       "  <thead>\n",
       "    <tr style=\"text-align: right;\">\n",
       "      <th></th>\n",
       "      <th>File_Name</th>\n",
       "    </tr>\n",
       "  </thead>\n",
       "  <tbody>\n",
       "    <tr>\n",
       "      <th>0</th>\n",
       "      <td>file_2300.txt</td>\n",
       "    </tr>\n",
       "    <tr>\n",
       "      <th>1</th>\n",
       "      <td>file_809.txt</td>\n",
       "    </tr>\n",
       "    <tr>\n",
       "      <th>2</th>\n",
       "      <td>file_1383.txt</td>\n",
       "    </tr>\n",
       "    <tr>\n",
       "      <th>3</th>\n",
       "      <td>file_983.txt</td>\n",
       "    </tr>\n",
       "    <tr>\n",
       "      <th>4</th>\n",
       "      <td>file_1713.txt</td>\n",
       "    </tr>\n",
       "  </tbody>\n",
       "</table>\n",
       "</div>"
      ],
      "text/plain": [
       "       File_Name\n",
       "0  file_2300.txt\n",
       "1   file_809.txt\n",
       "2  file_1383.txt\n",
       "3   file_983.txt\n",
       "4  file_1713.txt"
      ]
     },
     "execution_count": 4,
     "metadata": {},
     "output_type": "execute_result"
    }
   ],
   "source": [
    "test.head(5)"
   ]
  },
  {
   "cell_type": "code",
   "execution_count": 5,
   "metadata": {},
   "outputs": [
    {
     "data": {
      "text/plain": [
       "['file_2164.txt',\n",
       " 'file_2602.txt',\n",
       " 'file_339.txt',\n",
       " 'file_2616.txt',\n",
       " 'file_1479.txt',\n",
       " 'file_2170.txt',\n",
       " 'file_1451.txt',\n",
       " 'file_2158.txt',\n",
       " 'file_477.txt',\n",
       " 'file_311.txt',\n",
       " ...]"
      ]
     },
     "execution_count": 5,
     "metadata": {},
     "output_type": "execute_result"
    }
   ],
   "source": [
    "os.listdir(scripts_path)"
   ]
  },
  {
   "cell_type": "code",
   "execution_count": 6,
   "metadata": {},
   "outputs": [
    {
     "data": {
      "text/plain": [
       "2827"
      ]
     },
     "execution_count": 6,
     "metadata": {},
     "output_type": "execute_result"
    }
   ],
   "source": [
    "len(os.listdir(scripts_path))"
   ]
  },
  {
   "cell_type": "code",
   "execution_count": 7,
   "metadata": {},
   "outputs": [
    {
     "name": "stdout",
     "output_type": "stream",
     "text": [
      "File Name :  file_2180.txt\n",
      "------------------------------------------------------------\n",
      "Length of content :  68093\n",
      "------------------------------------------------------------\n",
      "\t\t\tCrouching Tiger, Hidden Dragon\n",
      "\n",
      "\t\t\t\tby\n",
      "\n",
      "\tWang Hui Ling, James Schamus, Tsai Kuo Jung\n",
      "\n",
      "\t\t\t\tbased on the novel by\n",
      "\n",
      "\t\t\t\tWang Du Lu\n",
      "\n",
      "EXT. YUAN COMPOUND - DAY\n",
      "\n",
      "Security men and porters are loading wagons for a convoy.\n",
      "\n",
      "As they work, we see across the lake a lone horseman entering\n",
      "\n",
      "the village.  One of the men recognizes him.\n",
      "\n",
      "\t\t\t\tWORKER\n",
      "\n",
      "\t\tMaster Li is here!\n",
      "\n",
      "ANGLE ON: Li Mu Bai, thirties, powerful and handsome.\n",
      "\n",
      "In the background, old Aunt Wu, at the sight of Li Mu Bai,\n",
      "\n",
      "drops her parcels and runs excitedly into the building.\n",
      "\n",
      "INT. YUAN HALLWAY - DAY\n",
      "\n",
      "Aunt Wu runs hurriedly through the halls.\n",
      "\n",
      "\t\t\t\tAUNT WU\n",
      "\n",
      "\t\tShu Lien!\n",
      "\n",
      "   .....  "
     ]
    }
   ],
   "source": [
    "#Looking inside a script file\n",
    "print(\"File Name : \", train['File_Name'].values[0])\n",
    "print(\"-\"*60)\n",
    "print(\"Length of content : \", len(open(scripts_path + os.sep + train['File_Name'].values[0], \"r\").read()))\n",
    "print(\"-\"*60)\n",
    "print(open(scripts_path + os.sep + train['File_Name'].values[0], \"r\").read())"
   ]
  },
  {
   "cell_type": "markdown",
   "metadata": {},
   "source": [
    "---\n",
    "<h3 style=\"color:#d000ff\">Key Observations:</h3>\n",
    "\n",
    "* **We are dealing with textual data**\n",
    "* **The target vatiable is a class called Labels**\n",
    "* **The objective is to classify textual data in to a category**\n",
    "* **This is an NLP (Natural Language Processing) challenge**\n",
    "___"
   ]
  },
  {
   "cell_type": "code",
   "execution_count": 8,
   "metadata": {},
   "outputs": [],
   "source": [
    "# Loading the scripts to dataframe\n",
    "train['Script'] = [open(scripts_path + os.sep + file, \"r\").read() for file in train['File_Name']]\n",
    "test['Script'] = [open(scripts_path + os.sep + file, \"r\").read() for file in test['File_Name']]"
   ]
  },
  {
   "cell_type": "code",
   "execution_count": 9,
   "metadata": {},
   "outputs": [
    {
     "data": {
      "text/html": [
       "<div>\n",
       "<style scoped>\n",
       "    .dataframe tbody tr th:only-of-type {\n",
       "        vertical-align: middle;\n",
       "    }\n",
       "\n",
       "    .dataframe tbody tr th {\n",
       "        vertical-align: top;\n",
       "    }\n",
       "\n",
       "    .dataframe thead th {\n",
       "        text-align: right;\n",
       "    }\n",
       "</style>\n",
       "<table border=\"1\" class=\"dataframe\">\n",
       "  <thead>\n",
       "    <tr style=\"text-align: right;\">\n",
       "      <th></th>\n",
       "      <th>File_Name</th>\n",
       "      <th>Labels</th>\n",
       "      <th>Script</th>\n",
       "    </tr>\n",
       "  </thead>\n",
       "  <tbody>\n",
       "    <tr>\n",
       "      <th>0</th>\n",
       "      <td>file_2180.txt</td>\n",
       "      <td>8</td>\n",
       "      <td>\\t\\t\\tCrouching Tiger, Hidden Dragon\\n\\n\\t\\t\\t...</td>\n",
       "    </tr>\n",
       "    <tr>\n",
       "      <th>1</th>\n",
       "      <td>file_693.txt</td>\n",
       "      <td>4</td>\n",
       "      <td>\"MUMFO...</td>\n",
       "    </tr>\n",
       "    <tr>\n",
       "      <th>2</th>\n",
       "      <td>file_2469.txt</td>\n",
       "      <td>6</td>\n",
       "      <td>MAX PAYNE\\n\\n          ...</td>\n",
       "    </tr>\n",
       "    <tr>\n",
       "      <th>3</th>\n",
       "      <td>file_2542.txt</td>\n",
       "      <td>6</td>\n",
       "      <td>SLUMDOG MILLIONAIRE\\n\\n ...</td>\n",
       "    </tr>\n",
       "    <tr>\n",
       "      <th>4</th>\n",
       "      <td>file_378.txt</td>\n",
       "      <td>16</td>\n",
       "      <td>&lt;b&gt;&lt;!--\\n\\n&lt;/b&gt;if (window!= top)\\n\\ntop.locati...</td>\n",
       "    </tr>\n",
       "    <tr>\n",
       "      <th>...</th>\n",
       "      <td>...</td>\n",
       "      <td>...</td>\n",
       "      <td>...</td>\n",
       "    </tr>\n",
       "    <tr>\n",
       "      <th>1973</th>\n",
       "      <td>file_1930.txt</td>\n",
       "      <td>19</td>\n",
       "      <td>SURROGATES\\n...</td>\n",
       "    </tr>\n",
       "    <tr>\n",
       "      <th>1974</th>\n",
       "      <td>file_1821.txt</td>\n",
       "      <td>19</td>\n",
       "      <td>CRADLE TO THE GRAVE\\n\\n             Written by...</td>\n",
       "    </tr>\n",
       "    <tr>\n",
       "      <th>1975</th>\n",
       "      <td>file_350.txt</td>\n",
       "      <td>16</td>\n",
       "      <td>\"HIGHLANDER IV: WORLD WITHOUT END\" -- Draft 9/...</td>\n",
       "    </tr>\n",
       "    <tr>\n",
       "      <th>1976</th>\n",
       "      <td>file_1933.txt</td>\n",
       "      <td>19</td>\n",
       "      <td>Misery - by William Goldman\\n\\n&lt;b&gt;&lt;!--\\n\\n&lt;/b&gt;...</td>\n",
       "    </tr>\n",
       "    <tr>\n",
       "      <th>1977</th>\n",
       "      <td>file_1210.txt</td>\n",
       "      <td>11</td>\n",
       "      <td>THE HILLS HAVE ...</td>\n",
       "    </tr>\n",
       "  </tbody>\n",
       "</table>\n",
       "<p>1978 rows × 3 columns</p>\n",
       "</div>"
      ],
      "text/plain": [
       "          File_Name  Labels                                             Script\n",
       "0     file_2180.txt       8  \\t\\t\\tCrouching Tiger, Hidden Dragon\\n\\n\\t\\t\\t...\n",
       "1      file_693.txt       4                                          \"MUMFO...\n",
       "2     file_2469.txt       6                         MAX PAYNE\\n\\n          ...\n",
       "3     file_2542.txt       6                        SLUMDOG MILLIONAIRE\\n\\n ...\n",
       "4      file_378.txt      16  <b><!--\\n\\n</b>if (window!= top)\\n\\ntop.locati...\n",
       "...             ...     ...                                                ...\n",
       "1973  file_1930.txt      19                                    SURROGATES\\n...\n",
       "1974  file_1821.txt      19  CRADLE TO THE GRAVE\\n\\n             Written by...\n",
       "1975   file_350.txt      16  \"HIGHLANDER IV: WORLD WITHOUT END\" -- Draft 9/...\n",
       "1976  file_1933.txt      19  Misery - by William Goldman\\n\\n<b><!--\\n\\n</b>...\n",
       "1977  file_1210.txt      11                                 THE HILLS HAVE ...\n",
       "\n",
       "[1978 rows x 3 columns]"
      ]
     },
     "execution_count": 9,
     "metadata": {},
     "output_type": "execute_result"
    }
   ],
   "source": [
    "train"
   ]
  },
  {
   "cell_type": "code",
   "execution_count": 10,
   "metadata": {},
   "outputs": [
    {
     "data": {
      "text/html": [
       "<div>\n",
       "<style scoped>\n",
       "    .dataframe tbody tr th:only-of-type {\n",
       "        vertical-align: middle;\n",
       "    }\n",
       "\n",
       "    .dataframe tbody tr th {\n",
       "        vertical-align: top;\n",
       "    }\n",
       "\n",
       "    .dataframe thead th {\n",
       "        text-align: right;\n",
       "    }\n",
       "</style>\n",
       "<table border=\"1\" class=\"dataframe\">\n",
       "  <thead>\n",
       "    <tr style=\"text-align: right;\">\n",
       "      <th></th>\n",
       "      <th>File_Name</th>\n",
       "      <th>Script</th>\n",
       "    </tr>\n",
       "  </thead>\n",
       "  <tbody>\n",
       "    <tr>\n",
       "      <th>0</th>\n",
       "      <td>file_2300.txt</td>\n",
       "      <td>MARTHA MARCY MAY ...</td>\n",
       "    </tr>\n",
       "    <tr>\n",
       "      <th>1</th>\n",
       "      <td>file_809.txt</td>\n",
       "      <td>YES MAN\\n\\n     ...</td>\n",
       "    </tr>\n",
       "    <tr>\n",
       "      <th>2</th>\n",
       "      <td>file_1383.txt</td>\n",
       "      <td>Star Trek: The Wrath Of Khan\\n\\n              ...</td>\n",
       "    </tr>\n",
       "    <tr>\n",
       "      <th>3</th>\n",
       "      <td>file_983.txt</td>\n",
       "      <td>The Beach\\n\\nThe Beach\\n\\nWritten by John Hodg...</td>\n",
       "    </tr>\n",
       "    <tr>\n",
       "      <th>4</th>\n",
       "      <td>file_1713.txt</td>\n",
       "      <td>KING...</td>\n",
       "    </tr>\n",
       "    <tr>\n",
       "      <th>...</th>\n",
       "      <td>...</td>\n",
       "      <td>...</td>\n",
       "    </tr>\n",
       "    <tr>\n",
       "      <th>844</th>\n",
       "      <td>file_2474.txt</td>\n",
       "      <td>AUTUMN IN ...</td>\n",
       "    </tr>\n",
       "    <tr>\n",
       "      <th>845</th>\n",
       "      <td>file_863.txt</td>\n",
       "      <td>&lt;b&gt;&lt;!--\\n\\n&lt;/b&gt;if (window!= top)\\n\\ntop.locati...</td>\n",
       "    </tr>\n",
       "    <tr>\n",
       "      <th>846</th>\n",
       "      <td>file_1547.txt</td>\n",
       "      <td>TROPIC THUNDE...</td>\n",
       "    </tr>\n",
       "    <tr>\n",
       "      <th>847</th>\n",
       "      <td>file_1292.txt</td>\n",
       "      <td>NIGHTBR...</td>\n",
       "    </tr>\n",
       "    <tr>\n",
       "      <th>848</th>\n",
       "      <td>file_1910.txt</td>\n",
       "      <td>&lt;b&gt;&lt;!--\\n\\n&lt;/b&gt;if (window!= top)\\n\\ntop.locati...</td>\n",
       "    </tr>\n",
       "  </tbody>\n",
       "</table>\n",
       "<p>849 rows × 2 columns</p>\n",
       "</div>"
      ],
      "text/plain": [
       "         File_Name                                             Script\n",
       "0    file_2300.txt                               MARTHA MARCY MAY ...\n",
       "1     file_809.txt                                YES MAN\\n\\n     ...\n",
       "2    file_1383.txt  Star Trek: The Wrath Of Khan\\n\\n              ...\n",
       "3     file_983.txt  The Beach\\n\\nThe Beach\\n\\nWritten by John Hodg...\n",
       "4    file_1713.txt                                            KING...\n",
       "..             ...                                                ...\n",
       "844  file_2474.txt                                      AUTUMN IN ...\n",
       "845   file_863.txt  <b><!--\\n\\n</b>if (window!= top)\\n\\ntop.locati...\n",
       "846  file_1547.txt                                   TROPIC THUNDE...\n",
       "847  file_1292.txt                                         NIGHTBR...\n",
       "848  file_1910.txt  <b><!--\\n\\n</b>if (window!= top)\\n\\ntop.locati...\n",
       "\n",
       "[849 rows x 2 columns]"
      ]
     },
     "execution_count": 10,
     "metadata": {},
     "output_type": "execute_result"
    }
   ],
   "source": [
    "test"
   ]
  },
  {
   "cell_type": "markdown",
   "metadata": {},
   "source": [
    "<h2 style=\"color:#ff4782;\">2. Data Analysis</h2>\n",
    "\n",
    "---\n",
    "Now that we have the required data loaded, we can analyse the data. Data analysis is an integral stage of machine learning pipeline. It shows us how to engineer and perfect a model by preparing and curating the right information from the data.\n",
    "\n",
    "Data Analysis helps us in generating new features that might help us in building a stronger predictor"
   ]
  },
  {
   "cell_type": "code",
   "execution_count": 11,
   "metadata": {},
   "outputs": [
    {
     "name": "stdout",
     "output_type": "stream",
     "text": [
      "<class 'pandas.core.frame.DataFrame'>\n",
      "RangeIndex: 1978 entries, 0 to 1977\n",
      "Data columns (total 3 columns):\n",
      "File_Name    1978 non-null object\n",
      "Labels       1978 non-null int64\n",
      "Script       1978 non-null object\n",
      "dtypes: int64(1), object(2)\n",
      "memory usage: 46.5+ KB\n"
     ]
    }
   ],
   "source": [
    "train.info()"
   ]
  },
  {
   "cell_type": "code",
   "execution_count": 12,
   "metadata": {},
   "outputs": [
    {
     "name": "stdout",
     "output_type": "stream",
     "text": [
      "<class 'pandas.core.frame.DataFrame'>\n",
      "RangeIndex: 849 entries, 0 to 848\n",
      "Data columns (total 2 columns):\n",
      "File_Name    849 non-null object\n",
      "Script       849 non-null object\n",
      "dtypes: object(2)\n",
      "memory usage: 13.4+ KB\n"
     ]
    }
   ],
   "source": [
    "test.info()"
   ]
  },
  {
   "cell_type": "markdown",
   "metadata": {},
   "source": [
    "---\n",
    "<h3 style=\"color:#d000ff\">Key Observations:</h3>\n",
    "\n",
    "* **We do not have any null/missing/nan values in the datasets**\n",
    "* **The target variable \"Label\" is of data type integer**\n",
    "* **The independent variable Script is of type object**\n",
    "___"
   ]
  },
  {
   "cell_type": "markdown",
   "metadata": {},
   "source": [
    "<h3 style=\"color:#ff4782;\">2.1. Distribution Of Classes</h3>\n"
   ]
  },
  {
   "cell_type": "code",
   "execution_count": 13,
   "metadata": {},
   "outputs": [
    {
     "name": "stdout",
     "output_type": "stream",
     "text": [
      "Unique number of classes in train :  22\n"
     ]
    }
   ],
   "source": [
    "#training set\n",
    "\n",
    "print(\"Unique number of classes in train : \", train['Labels'].nunique())"
   ]
  },
  {
   "cell_type": "code",
   "execution_count": 14,
   "metadata": {},
   "outputs": [
    {
     "data": {
      "text/plain": [
       "<matplotlib.axes._subplots.AxesSubplot at 0x13b8cb1c0>"
      ]
     },
     "execution_count": 14,
     "metadata": {},
     "output_type": "execute_result"
    },
    {
     "data": {
      "image/png": "[encoded data removed]",
      "text/plain": [
       "<Figure size 504x720 with 1 Axes>"
      ]
     },
     "metadata": {
      "needs_background": "light"
     },
     "output_type": "display_data"
    }
   ],
   "source": [
    "train['Labels'].value_counts().plot(kind = 'bar',figsize=(7,10), rot=0, yticks=range(0,420,20))"
   ]
  },
  {
   "cell_type": "markdown",
   "metadata": {},
   "source": [
    "<h3 style=\"color:#ff4782;\">2.2. Feature Engineering</h3>\n",
    "\n",
    "---\n",
    "\n",
    "Feature engineering is a fancy term for deriving new features from the existing features. This is part of the exploration strategy that might help us in getting that extra .01% accuracy which in most cases are highly crucial for an ML model.\n",
    "\n",
    "Let us see how the length of each script contributes in identifying the genre of a movie. This may not seem logical to us. We may think that these are movie scripts and all most all movies have the same stream length. However, there can be a correlation that machines can easily relate. We will explore this by using the feature to predict and compare the model's prediction."
   ]
  },
  {
   "cell_type": "code",
   "execution_count": 15,
   "metadata": {},
   "outputs": [],
   "source": [
    "train[\"Script_Length\"] = train['Script'].apply(lambda x: len(x))\n",
    "test[\"Script_Length\"] = test['Script'].apply(lambda x: len(x))"
   ]
  },
  {
   "cell_type": "code",
   "execution_count": 16,
   "metadata": {},
   "outputs": [
    {
     "data": {
      "text/html": [
       "<div>\n",
       "<style scoped>\n",
       "    .dataframe tbody tr th:only-of-type {\n",
       "        vertical-align: middle;\n",
       "    }\n",
       "\n",
       "    .dataframe tbody tr th {\n",
       "        vertical-align: top;\n",
       "    }\n",
       "\n",
       "    .dataframe thead th {\n",
       "        text-align: right;\n",
       "    }\n",
       "</style>\n",
       "<table border=\"1\" class=\"dataframe\">\n",
       "  <thead>\n",
       "    <tr style=\"text-align: right;\">\n",
       "      <th></th>\n",
       "      <th>File_Name</th>\n",
       "      <th>Labels</th>\n",
       "      <th>Script</th>\n",
       "      <th>Script_Length</th>\n",
       "    </tr>\n",
       "  </thead>\n",
       "  <tbody>\n",
       "    <tr>\n",
       "      <th>0</th>\n",
       "      <td>file_2180.txt</td>\n",
       "      <td>8</td>\n",
       "      <td>\\t\\t\\tCrouching Tiger, Hidden Dragon\\n\\n\\t\\t\\t...</td>\n",
       "      <td>68093</td>\n",
       "    </tr>\n",
       "    <tr>\n",
       "      <th>1</th>\n",
       "      <td>file_693.txt</td>\n",
       "      <td>4</td>\n",
       "      <td>\"MUMFO...</td>\n",
       "      <td>277113</td>\n",
       "    </tr>\n",
       "    <tr>\n",
       "      <th>2</th>\n",
       "      <td>file_2469.txt</td>\n",
       "      <td>6</td>\n",
       "      <td>MAX PAYNE\\n\\n          ...</td>\n",
       "      <td>209267</td>\n",
       "    </tr>\n",
       "    <tr>\n",
       "      <th>3</th>\n",
       "      <td>file_2542.txt</td>\n",
       "      <td>6</td>\n",
       "      <td>SLUMDOG MILLIONAIRE\\n\\n ...</td>\n",
       "      <td>254917</td>\n",
       "    </tr>\n",
       "    <tr>\n",
       "      <th>4</th>\n",
       "      <td>file_378.txt</td>\n",
       "      <td>16</td>\n",
       "      <td>&lt;b&gt;&lt;!--\\n\\n&lt;/b&gt;if (window!= top)\\n\\ntop.locati...</td>\n",
       "      <td>244016</td>\n",
       "    </tr>\n",
       "    <tr>\n",
       "      <th>...</th>\n",
       "      <td>...</td>\n",
       "      <td>...</td>\n",
       "      <td>...</td>\n",
       "      <td>...</td>\n",
       "    </tr>\n",
       "    <tr>\n",
       "      <th>1973</th>\n",
       "      <td>file_1930.txt</td>\n",
       "      <td>19</td>\n",
       "      <td>SURROGATES\\n...</td>\n",
       "      <td>207622</td>\n",
       "    </tr>\n",
       "    <tr>\n",
       "      <th>1974</th>\n",
       "      <td>file_1821.txt</td>\n",
       "      <td>19</td>\n",
       "      <td>CRADLE TO THE GRAVE\\n\\n             Written by...</td>\n",
       "      <td>144137</td>\n",
       "    </tr>\n",
       "    <tr>\n",
       "      <th>1975</th>\n",
       "      <td>file_350.txt</td>\n",
       "      <td>16</td>\n",
       "      <td>\"HIGHLANDER IV: WORLD WITHOUT END\" -- Draft 9/...</td>\n",
       "      <td>110293</td>\n",
       "    </tr>\n",
       "    <tr>\n",
       "      <th>1976</th>\n",
       "      <td>file_1933.txt</td>\n",
       "      <td>19</td>\n",
       "      <td>Misery - by William Goldman\\n\\n&lt;b&gt;&lt;!--\\n\\n&lt;/b&gt;...</td>\n",
       "      <td>236460</td>\n",
       "    </tr>\n",
       "    <tr>\n",
       "      <th>1977</th>\n",
       "      <td>file_1210.txt</td>\n",
       "      <td>11</td>\n",
       "      <td>THE HILLS HAVE ...</td>\n",
       "      <td>161677</td>\n",
       "    </tr>\n",
       "  </tbody>\n",
       "</table>\n",
       "<p>1978 rows × 4 columns</p>\n",
       "</div>"
      ],
      "text/plain": [
       "          File_Name  Labels  \\\n",
       "0     file_2180.txt       8   \n",
       "1      file_693.txt       4   \n",
       "2     file_2469.txt       6   \n",
       "3     file_2542.txt       6   \n",
       "4      file_378.txt      16   \n",
       "...             ...     ...   \n",
       "1973  file_1930.txt      19   \n",
       "1974  file_1821.txt      19   \n",
       "1975   file_350.txt      16   \n",
       "1976  file_1933.txt      19   \n",
       "1977  file_1210.txt      11   \n",
       "\n",
       "                                                 Script  Script_Length  \n",
       "0     \\t\\t\\tCrouching Tiger, Hidden Dragon\\n\\n\\t\\t\\t...          68093  \n",
       "1                                             \"MUMFO...         277113  \n",
       "2                            MAX PAYNE\\n\\n          ...         209267  \n",
       "3                           SLUMDOG MILLIONAIRE\\n\\n ...         254917  \n",
       "4     <b><!--\\n\\n</b>if (window!= top)\\n\\ntop.locati...         244016  \n",
       "...                                                 ...            ...  \n",
       "1973                                    SURROGATES\\n...         207622  \n",
       "1974  CRADLE TO THE GRAVE\\n\\n             Written by...         144137  \n",
       "1975  \"HIGHLANDER IV: WORLD WITHOUT END\" -- Draft 9/...         110293  \n",
       "1976  Misery - by William Goldman\\n\\n<b><!--\\n\\n</b>...         236460  \n",
       "1977                                 THE HILLS HAVE ...         161677  \n",
       "\n",
       "[1978 rows x 4 columns]"
      ]
     },
     "execution_count": 16,
     "metadata": {},
     "output_type": "execute_result"
    }
   ],
   "source": [
    "train"
   ]
  },
  {
   "cell_type": "code",
   "execution_count": 17,
   "metadata": {},
   "outputs": [
    {
     "data": {
      "text/plain": [
       "<matplotlib.axes._subplots.AxesSubplot at 0x13dda9ac0>"
      ]
     },
     "execution_count": 17,
     "metadata": {},
     "output_type": "execute_result"
    },
    {
     "data": {
      "image/png": "[encoded data removed]",
      "text/plain": [
       "<Figure size 432x288 with 1 Axes>"
      ]
     },
     "metadata": {
      "needs_background": "light"
     },
     "output_type": "display_data"
    },
    {
     "data": {
      "image/png": "[encoded data removed]",
      "text/plain": [
       "<Figure size 432x288 with 1 Axes>"
      ]
     },
     "metadata": {
      "needs_background": "light"
     },
     "output_type": "display_data"
    },
    {
     "data": {
      "image/png": "[encoded data removed]",
      "text/plain": [
       "<Figure size 432x288 with 1 Axes>"
      ]
     },
     "metadata": {
      "needs_background": "light"
     },
     "output_type": "display_data"
    },
    {
     "data": {
      "image/png": "[encoded data removed]",
      "text/plain": [
       "<Figure size 432x288 with 1 Axes>"
      ]
     },
     "metadata": {
      "needs_background": "light"
     },
     "output_type": "display_data"
    }
   ],
   "source": [
    "train.groupby('Labels').mean().plot(kind='line', xticks = range(0,22,1), rot = 0, title=\"Mean Script Length Per Class\")\n",
    "train.groupby('Labels').median().plot(kind='line', xticks = range(0,22,1), rot = 0, title=\"Median Script Length Per Class\")\n",
    "train.groupby('Labels').min().plot(kind='line', xticks = range(0,22,1), rot = 0, title=\"Minimum Script Length Per Class\")\n",
    "train.groupby('Labels').max().plot(kind='line', xticks = range(0,22,1), rot = 0, title=\"Maximum Script Length Per Class\")"
   ]
  },
  {
   "cell_type": "markdown",
   "metadata": {},
   "source": [
    "---\n",
    "<h3 style=\"color:#d000ff\">Key Observations:</h3>\n",
    "\n",
    "* Although we can see some correlation between labels and the length of script, we can not make a clear conclusion abput the feature being help ful in giving us a better accuracy\n",
    "___"
   ]
  },
  {
   "cell_type": "markdown",
   "metadata": {},
   "source": [
    "<h2 style=\"color:#ff4782;\">3. Data Preprocessing</h2>"
   ]
  },
  {
   "cell_type": "code",
   "execution_count": 18,
   "metadata": {},
   "outputs": [
    {
     "data": {
      "text/plain": [
       "6     405\n",
       "19    261\n",
       "4     243\n",
       "0     203\n",
       "5     141\n",
       "15    134\n",
       "1     116\n",
       "16    109\n",
       "11    104\n",
       "8      79\n",
       "14     75\n",
       "7      27\n",
       "2      25\n",
       "20     18\n",
       "13     15\n",
       "21      9\n",
       "12      4\n",
       "9       3\n",
       "3       2\n",
       "17      2\n",
       "10      2\n",
       "18      1\n",
       "Name: Labels, dtype: int64"
      ]
     },
     "execution_count": 18,
     "metadata": {},
     "output_type": "execute_result"
    }
   ],
   "source": [
    "train['Labels'].value_counts()"
   ]
  },
  {
   "cell_type": "markdown",
   "metadata": {},
   "source": [
    "---\n",
    "<h3 style=\"color:#d000ff\">Important Note:</h3>\n",
    "\n",
    "* We can see that the label 18 has only one script in the training set. Since this is a multi-class classification problem we will need to perform a stratified split of training set to create a validation set.\n",
    "\n",
    "* A stratified split enables a balanced distribution of samples per Label(Class) between the train and validation sets.\n",
    "\n",
    "* In order to perform a stratified split, it is required that each of the classes must have atleast two samples each.\n",
    "\n",
    "**Since label 18 doesn't meet this requirement we will temporarily delete this data while creating the validation set. We will only use this data while training the model.**\n",
    "___"
   ]
  },
  {
   "cell_type": "code",
   "execution_count": 19,
   "metadata": {},
   "outputs": [],
   "source": [
    "# Creating training and validation data\n",
    "from sklearn.model_selection import train_test_split\n",
    "\n",
    "temp = train.drop(train[train['Labels'] == 18].index[0], axis = 0)\n",
    "\n",
    "xtrain, xvalid, ytrain, yvalid = train_test_split(temp[['Script']].values, temp.Labels.values, \n",
    "                                                  stratify=temp.Labels.values, \n",
    "                                                  random_state=42, \n",
    "                                                  test_size=0.3, shuffle=True)\n"
   ]
  },
  {
   "cell_type": "code",
   "execution_count": 20,
   "metadata": {},
   "outputs": [
    {
     "data": {
      "text/plain": [
       "21"
      ]
     },
     "execution_count": 20,
     "metadata": {},
     "output_type": "execute_result"
    }
   ],
   "source": [
    "len(set(yvalid))"
   ]
  },
  {
   "cell_type": "code",
   "execution_count": 21,
   "metadata": {},
   "outputs": [
    {
     "name": "stdout",
     "output_type": "stream",
     "text": [
      "(1383, 1)\n",
      "(1383,)\n"
     ]
    }
   ],
   "source": [
    "print(xtrain.shape)\n",
    "print(ytrain.shape)"
   ]
  },
  {
   "cell_type": "code",
   "execution_count": 22,
   "metadata": {},
   "outputs": [
    {
     "name": "stdout",
     "output_type": "stream",
     "text": [
      "(594, 1)\n",
      "(594,)\n"
     ]
    }
   ],
   "source": [
    "print(xvalid.shape)\n",
    "print(yvalid.shape)"
   ]
  },
  {
   "cell_type": "markdown",
   "metadata": {},
   "source": [
    "<h3 style=\"color:#ff4782;\">3.1. TF-IDF Vectorizer</h3>\n",
    "\n",
    "---\n",
    "\n",
    "<img src=\"https://www.machinehack.com/wp-content/uploads/2020/04/tfidf.png\">"
   ]
  },
  {
   "cell_type": "code",
   "execution_count": 23,
   "metadata": {},
   "outputs": [
    {
     "name": "stderr",
     "output_type": "stream",
     "text": [
      "[nltk_data] Downloading package stopwords to\n",
      "[nltk_data]     /Users/amalnair/nltk_data...\n",
      "[nltk_data]   Package stopwords is already up-to-date!\n"
     ]
    }
   ],
   "source": [
    "import nltk\n",
    "from nltk import word_tokenize\n",
    "from nltk.corpus import stopwords\n",
    "import ssl\n",
    "\n",
    "try:\n",
    "    _create_unverified_https_context = ssl._create_unverified_context\n",
    "except AttributeError:\n",
    "    pass\n",
    "else:\n",
    "    ssl._create_default_https_context = _create_unverified_https_context\n",
    "    \n",
    "nltk.download('stopwords')\n",
    "stop_words = stopwords.words('english')"
   ]
  },
  {
   "cell_type": "code",
   "execution_count": 24,
   "metadata": {},
   "outputs": [],
   "source": [
    "from sklearn.feature_extraction.text import TfidfVectorizer\n",
    "\n",
    "tfidf = TfidfVectorizer(stop_words = 'english', \n",
    "                      max_features=100, \n",
    "                      analyzer='word', \n",
    "                      token_pattern=r'\\w{1,}', #re for breaking a sentence into words\n",
    "                      strip_accents='unicode',\n",
    "                      ngram_range=(1, 3),\n",
    "                      use_idf=1, \n",
    "                      smooth_idf=1, \n",
    "                      sublinear_tf=1,\n",
    "                      min_df=3)  #minimum document frequency"
   ]
  },
  {
   "cell_type": "markdown",
   "metadata": {},
   "source": [
    "#### Arguements:\n",
    "\n",
    "* **stop_words** : str {‘english’}; This argument is used to pass a selected stopwords list for preprocessing. If a list, that list is assumed to contain stop words, all of which will be removed from the resulting tokens. Only applies if analyzer == 'word'.\n",
    "\n",
    "* **max_features** : int or None (default=None); Maximum number of features(words) to be used. If not None, build a vocabulary that only consider the top max_features ordered by term frequency across the corpus.\n",
    "\n",
    "* **analyzer** : str, {‘word’, ‘char’, ‘char_wb’} or callable; Whether the feature should be made of word or character n-grams. Option ‘char_wb’ creates character n-grams only from text inside word boundaries; n-grams at the edges of words are padded with space.\n",
    "\n",
    "* **token_pattern** : str; Regular expression denoting what constitutes a “token”, only used if analyzer == 'word'. The default regexp selects tokens of 2 or more alphanumeric characters (punctuation is completely ignored and always treated as a token separator).\n",
    "\n",
    "* **strip_accents** : {‘ascii’, ‘unicode’, None} (default=None); Remove accents and perform other character normalization during the preprocessing step. ‘ascii’ is a fast method that only works on characters that have an direct ASCII mapping. ‘unicode’ is a slightly slower method that works on any characters. None (default) does nothing.\n",
    "\n",
    "* **ngram_rangetuple** :  (min_n, max_n), default=(1, 1); The lower and upper boundary of the range of n-values for different n-grams to be extracted. All values of n such that min_n <= n <= max_n will be used. For example an ngram_range of (1, 1) means only unigrams, (1, 2) means unigrams and bigrams, and (2, 2) means only bigrams. Only applies if analyzer is not callable.\n",
    "\n",
    "* **use_idf** : bool (default=True);Enable inverse-document-frequency reweighting.\n",
    "\n",
    "* **smooth_idf** bool (default=True);Smooth idf weights by adding one to document frequencies, as if an extra document was seen containing every term in the collection exactly once. Prevents zero divisions.\n",
    "\n",
    "* **sublinear_tf** : bool (default=False); Apply sublinear tf scaling, i.e. replace tf with 1 + log(tf).\n",
    "\n",
    "* **min_df** : float in range [0.0, 1.0] or int (default=1);When building the vocabulary ignore terms that have a document frequency strictly lower than the given threshold. This value is also called cut-off in the literature. If float, the parameter represents a proportion of documents, integer absolute counts. This parameter is ignored if vocabulary is not None.\n",
    "\n",
    "\n",
    "\n",
    "\n",
    "\n",
    "\n",
    "\n",
    "\n",
    "\n",
    "\n",
    "\n",
    "\n",
    "\n"
   ]
  },
  {
   "cell_type": "code",
   "execution_count": 25,
   "metadata": {},
   "outputs": [
    {
     "data": {
      "text/plain": [
       "TfidfVectorizer(analyzer='word', binary=False, decode_error='strict',\n",
       "                dtype=<class 'numpy.float64'>, encoding='utf-8',\n",
       "                input='content', lowercase=True, max_df=1.0, max_features=100,\n",
       "                min_df=3, ngram_range=(1, 3), norm='l2', preprocessor=None,\n",
       "                smooth_idf=1, stop_words='english', strip_accents='unicode',\n",
       "                sublinear_tf=1, token_pattern='\\\\w{1,}', tokenizer=None,\n",
       "                use_idf=1, vocabulary=None)"
      ]
     },
     "execution_count": 25,
     "metadata": {},
     "output_type": "execute_result"
    }
   ],
   "source": [
    "# Fitting TF-IDF to both training and test sets (semi-supervised learning)\n",
    "temp = list(xtrain) + list(xvalid)\n",
    "temp = np.asarray(temp).reshape(-1)\n",
    "tfidf.fit(temp)"
   ]
  },
  {
   "cell_type": "code",
   "execution_count": 26,
   "metadata": {},
   "outputs": [],
   "source": [
    "xtrain_tfv =  tfidf.transform(xtrain.reshape(-1)) \n",
    "xvalid_tfv = tfidf.transform(xvalid.reshape(-1))"
   ]
  },
  {
   "cell_type": "code",
   "execution_count": 27,
   "metadata": {},
   "outputs": [
    {
     "data": {
      "text/plain": [
       "(1383, 100)"
      ]
     },
     "execution_count": 27,
     "metadata": {},
     "output_type": "execute_result"
    }
   ],
   "source": [
    "xtrain_tfv.shape"
   ]
  },
  {
   "cell_type": "code",
   "execution_count": 28,
   "metadata": {},
   "outputs": [
    {
     "data": {
      "text/plain": [
       "(594, 100)"
      ]
     },
     "execution_count": 28,
     "metadata": {},
     "output_type": "execute_result"
    }
   ],
   "source": [
    "xvalid_tfv.shape"
   ]
  },
  {
   "cell_type": "markdown",
   "metadata": {},
   "source": [
    "<h2 style=\"color:#ff4782;\">4. Training & Validation</h2>\n"
   ]
  },
  {
   "cell_type": "code",
   "execution_count": 29,
   "metadata": {},
   "outputs": [
    {
     "name": "stderr",
     "output_type": "stream",
     "text": [
      "/Library/Frameworks/Python.framework/Versions/3.8/lib/python3.8/site-packages/sklearn/linear_model/_logistic.py:937: ConvergenceWarning: lbfgs failed to converge (status=1):\n",
      "STOP: TOTAL NO. of ITERATIONS REACHED LIMIT.\n",
      "\n",
      "Increase the number of iterations (max_iter) or scale the data as shown in:\n",
      "    https://scikit-learn.org/stable/modules/preprocessing.html.\n",
      "Please also refer to the documentation for alternative solver options:\n",
      "    https://scikit-learn.org/stable/modules/linear_model.html#logistic-regression\n",
      "  n_iter_i = _check_optimize_result(\n"
     ]
    },
    {
     "data": {
      "text/plain": [
       "LogisticRegression(C=1.0, class_weight=None, dual=False, fit_intercept=True,\n",
       "                   intercept_scaling=1, l1_ratio=None, max_iter=100,\n",
       "                   multi_class='auto', n_jobs=None, penalty='l2',\n",
       "                   random_state=None, solver='lbfgs', tol=0.0001, verbose=0,\n",
       "                   warm_start=False)"
      ]
     },
     "execution_count": 29,
     "metadata": {},
     "output_type": "execute_result"
    }
   ],
   "source": [
    "from sklearn.linear_model import LogisticRegression\n",
    "from sklearn.metrics import log_loss\n",
    "\n",
    "# Fitting a simple Logistic Regression on TFIDF\n",
    "clf = LogisticRegression(C=1.0)\n",
    "\n",
    "clf.fit(xtrain_tfv, ytrain)\n"
   ]
  },
  {
   "cell_type": "code",
   "execution_count": 30,
   "metadata": {},
   "outputs": [],
   "source": [
    "predictions = clf.predict_proba(xvalid_tfv)"
   ]
  },
  {
   "cell_type": "code",
   "execution_count": 31,
   "metadata": {},
   "outputs": [
    {
     "name": "stdout",
     "output_type": "stream",
     "text": [
      "logloss: 2.324 \n"
     ]
    }
   ],
   "source": [
    "print(\"logloss: %0.3f \" % log_loss(yvalid, predictions))"
   ]
  },
  {
   "cell_type": "markdown",
   "metadata": {},
   "source": [
    "<h2 style=\"color:#ff4782;\">5. Predicting For Test Data</h2>\n"
   ]
  },
  {
   "cell_type": "code",
   "execution_count": 32,
   "metadata": {},
   "outputs": [],
   "source": [
    "xtrain = train.Script.values\n",
    "ytrain = train.Labels.values\n",
    "\n",
    "xtest = test.Script.values"
   ]
  },
  {
   "cell_type": "code",
   "execution_count": 33,
   "metadata": {},
   "outputs": [
    {
     "name": "stdout",
     "output_type": "stream",
     "text": [
      "(1978,)\n",
      "(1978,)\n",
      "(849,)\n"
     ]
    }
   ],
   "source": [
    "print(xtrain.shape)\n",
    "print(ytrain.shape)\n",
    "print(xtest.shape)"
   ]
  },
  {
   "cell_type": "code",
   "execution_count": 34,
   "metadata": {},
   "outputs": [],
   "source": [
    "tfidf_c = TfidfVectorizer(stop_words = 'english', \n",
    "                      max_features=100, \n",
    "                      analyzer='word', \n",
    "                      token_pattern=r'\\w{1,}', #re for breaking a sentence into words\n",
    "                      strip_accents='unicode',\n",
    "                      ngram_range=(1, 3),\n",
    "                      use_idf=1, \n",
    "                      smooth_idf=1, \n",
    "                      sublinear_tf=1,\n",
    "                      min_df=3)  #minimum document frequency"
   ]
  },
  {
   "cell_type": "code",
   "execution_count": 35,
   "metadata": {},
   "outputs": [
    {
     "data": {
      "text/plain": [
       "TfidfVectorizer(analyzer='word', binary=False, decode_error='strict',\n",
       "                dtype=<class 'numpy.float64'>, encoding='utf-8',\n",
       "                input='content', lowercase=True, max_df=1.0, max_features=200,\n",
       "                min_df=3, ngram_range=(1, 3), norm='l2', preprocessor=None,\n",
       "                smooth_idf=1, stop_words='english', strip_accents='unicode',\n",
       "                sublinear_tf=1, token_pattern='\\\\w{1,}', tokenizer=None,\n",
       "                use_idf=1, vocabulary=None)"
      ]
     },
     "execution_count": 35,
     "metadata": {},
     "output_type": "execute_result"
    }
   ],
   "source": [
    "tfidf_c.fit(xtrain.reshape(-1))"
   ]
  },
  {
   "cell_type": "code",
   "execution_count": 36,
   "metadata": {},
   "outputs": [],
   "source": [
    "xtrain_tfv =  tfidf_c.transform(xtrain)\n",
    "xtest_tfv = tfidf_c.transform(xtest)"
   ]
  },
  {
   "cell_type": "code",
   "execution_count": 37,
   "metadata": {},
   "outputs": [
    {
     "data": {
      "text/plain": [
       "(1978, 100)"
      ]
     },
     "execution_count": 37,
     "metadata": {},
     "output_type": "execute_result"
    }
   ],
   "source": [
    "xtrain_tfv.shape"
   ]
  },
  {
   "cell_type": "code",
   "execution_count": 38,
   "metadata": {},
   "outputs": [
    {
     "data": {
      "text/plain": [
       "(849, 100)"
      ]
     },
     "execution_count": 38,
     "metadata": {},
     "output_type": "execute_result"
    }
   ],
   "source": [
    "xtest_tfv.shape"
   ]
  },
  {
   "cell_type": "code",
   "execution_count": 39,
   "metadata": {},
   "outputs": [
    {
     "name": "stderr",
     "output_type": "stream",
     "text": [
      "/Library/Frameworks/Python.framework/Versions/3.8/lib/python3.8/site-packages/sklearn/linear_model/_logistic.py:937: ConvergenceWarning: lbfgs failed to converge (status=1):\n",
      "STOP: TOTAL NO. of ITERATIONS REACHED LIMIT.\n",
      "\n",
      "Increase the number of iterations (max_iter) or scale the data as shown in:\n",
      "    https://scikit-learn.org/stable/modules/preprocessing.html.\n",
      "Please also refer to the documentation for alternative solver options:\n",
      "    https://scikit-learn.org/stable/modules/linear_model.html#logistic-regression\n",
      "  n_iter_i = _check_optimize_result(\n"
     ]
    },
    {
     "data": {
      "text/plain": [
       "LogisticRegression(C=1.0, class_weight=None, dual=False, fit_intercept=True,\n",
       "                   intercept_scaling=1, l1_ratio=None, max_iter=100,\n",
       "                   multi_class='auto', n_jobs=None, penalty='l2',\n",
       "                   random_state=None, solver='lbfgs', tol=0.0001, verbose=0,\n",
       "                   warm_start=False)"
      ]
     },
     "execution_count": 39,
     "metadata": {},
     "output_type": "execute_result"
    }
   ],
   "source": [
    "# Fitting a simple Logistic Regression on TFIDF\n",
    "clf_2 = LogisticRegression(C=1.0)\n",
    "clf_2.fit(xtrain_tfv, ytrain)"
   ]
  },
  {
   "cell_type": "code",
   "execution_count": 40,
   "metadata": {},
   "outputs": [],
   "source": [
    "predictions_test = clf_2.predict_proba(xtest_tfv)"
   ]
  },
  {
   "cell_type": "code",
   "execution_count": 41,
   "metadata": {},
   "outputs": [
    {
     "data": {
      "text/html": [
       "<div>\n",
       "<style scoped>\n",
       "    .dataframe tbody tr th:only-of-type {\n",
       "        vertical-align: middle;\n",
       "    }\n",
       "\n",
       "    .dataframe tbody tr th {\n",
       "        vertical-align: top;\n",
       "    }\n",
       "\n",
       "    .dataframe thead th {\n",
       "        text-align: right;\n",
       "    }\n",
       "</style>\n",
       "<table border=\"1\" class=\"dataframe\">\n",
       "  <thead>\n",
       "    <tr style=\"text-align: right;\">\n",
       "      <th></th>\n",
       "      <th>0</th>\n",
       "      <th>1</th>\n",
       "      <th>2</th>\n",
       "      <th>3</th>\n",
       "      <th>4</th>\n",
       "      <th>5</th>\n",
       "      <th>6</th>\n",
       "      <th>7</th>\n",
       "      <th>8</th>\n",
       "      <th>9</th>\n",
       "      <th>...</th>\n",
       "      <th>12</th>\n",
       "      <th>13</th>\n",
       "      <th>14</th>\n",
       "      <th>15</th>\n",
       "      <th>16</th>\n",
       "      <th>17</th>\n",
       "      <th>18</th>\n",
       "      <th>19</th>\n",
       "      <th>20</th>\n",
       "      <th>21</th>\n",
       "    </tr>\n",
       "  </thead>\n",
       "  <tbody>\n",
       "    <tr>\n",
       "      <th>0</th>\n",
       "      <td>0.068532</td>\n",
       "      <td>0.040278</td>\n",
       "      <td>0.011833</td>\n",
       "      <td>0.000913</td>\n",
       "      <td>0.171083</td>\n",
       "      <td>0.066526</td>\n",
       "      <td>0.259934</td>\n",
       "      <td>0.010724</td>\n",
       "      <td>0.028595</td>\n",
       "      <td>0.001442</td>\n",
       "      <td>...</td>\n",
       "      <td>0.001777</td>\n",
       "      <td>0.006581</td>\n",
       "      <td>0.035774</td>\n",
       "      <td>0.074414</td>\n",
       "      <td>0.039121</td>\n",
       "      <td>0.000983</td>\n",
       "      <td>0.000481</td>\n",
       "      <td>0.126457</td>\n",
       "      <td>0.008688</td>\n",
       "      <td>0.003634</td>\n",
       "    </tr>\n",
       "    <tr>\n",
       "      <th>1</th>\n",
       "      <td>0.055984</td>\n",
       "      <td>0.040519</td>\n",
       "      <td>0.011922</td>\n",
       "      <td>0.000886</td>\n",
       "      <td>0.189141</td>\n",
       "      <td>0.068131</td>\n",
       "      <td>0.278344</td>\n",
       "      <td>0.010588</td>\n",
       "      <td>0.030696</td>\n",
       "      <td>0.001335</td>\n",
       "      <td>...</td>\n",
       "      <td>0.001671</td>\n",
       "      <td>0.006519</td>\n",
       "      <td>0.035280</td>\n",
       "      <td>0.098523</td>\n",
       "      <td>0.036453</td>\n",
       "      <td>0.000923</td>\n",
       "      <td>0.000457</td>\n",
       "      <td>0.090240</td>\n",
       "      <td>0.007831</td>\n",
       "      <td>0.003450</td>\n",
       "    </tr>\n",
       "    <tr>\n",
       "      <th>2</th>\n",
       "      <td>0.138106</td>\n",
       "      <td>0.137024</td>\n",
       "      <td>0.015643</td>\n",
       "      <td>0.001139</td>\n",
       "      <td>0.069870</td>\n",
       "      <td>0.030674</td>\n",
       "      <td>0.170855</td>\n",
       "      <td>0.016937</td>\n",
       "      <td>0.056755</td>\n",
       "      <td>0.001685</td>\n",
       "      <td>...</td>\n",
       "      <td>0.002361</td>\n",
       "      <td>0.009397</td>\n",
       "      <td>0.031959</td>\n",
       "      <td>0.061394</td>\n",
       "      <td>0.097724</td>\n",
       "      <td>0.001074</td>\n",
       "      <td>0.000547</td>\n",
       "      <td>0.087976</td>\n",
       "      <td>0.011128</td>\n",
       "      <td>0.005696</td>\n",
       "    </tr>\n",
       "    <tr>\n",
       "      <th>3</th>\n",
       "      <td>0.073917</td>\n",
       "      <td>0.039611</td>\n",
       "      <td>0.010640</td>\n",
       "      <td>0.000956</td>\n",
       "      <td>0.165377</td>\n",
       "      <td>0.072448</td>\n",
       "      <td>0.218542</td>\n",
       "      <td>0.010793</td>\n",
       "      <td>0.039481</td>\n",
       "      <td>0.001286</td>\n",
       "      <td>...</td>\n",
       "      <td>0.001974</td>\n",
       "      <td>0.005524</td>\n",
       "      <td>0.031946</td>\n",
       "      <td>0.111063</td>\n",
       "      <td>0.050492</td>\n",
       "      <td>0.000967</td>\n",
       "      <td>0.000459</td>\n",
       "      <td>0.108903</td>\n",
       "      <td>0.006964</td>\n",
       "      <td>0.004009</td>\n",
       "    </tr>\n",
       "    <tr>\n",
       "      <th>4</th>\n",
       "      <td>0.166824</td>\n",
       "      <td>0.097849</td>\n",
       "      <td>0.013931</td>\n",
       "      <td>0.001048</td>\n",
       "      <td>0.077769</td>\n",
       "      <td>0.070226</td>\n",
       "      <td>0.161861</td>\n",
       "      <td>0.011879</td>\n",
       "      <td>0.040307</td>\n",
       "      <td>0.001558</td>\n",
       "      <td>...</td>\n",
       "      <td>0.001933</td>\n",
       "      <td>0.008382</td>\n",
       "      <td>0.043444</td>\n",
       "      <td>0.059232</td>\n",
       "      <td>0.068487</td>\n",
       "      <td>0.001085</td>\n",
       "      <td>0.000564</td>\n",
       "      <td>0.112205</td>\n",
       "      <td>0.010139</td>\n",
       "      <td>0.004383</td>\n",
       "    </tr>\n",
       "    <tr>\n",
       "      <th>...</th>\n",
       "      <td>...</td>\n",
       "      <td>...</td>\n",
       "      <td>...</td>\n",
       "      <td>...</td>\n",
       "      <td>...</td>\n",
       "      <td>...</td>\n",
       "      <td>...</td>\n",
       "      <td>...</td>\n",
       "      <td>...</td>\n",
       "      <td>...</td>\n",
       "      <td>...</td>\n",
       "      <td>...</td>\n",
       "      <td>...</td>\n",
       "      <td>...</td>\n",
       "      <td>...</td>\n",
       "      <td>...</td>\n",
       "      <td>...</td>\n",
       "      <td>...</td>\n",
       "      <td>...</td>\n",
       "      <td>...</td>\n",
       "      <td>...</td>\n",
       "    </tr>\n",
       "    <tr>\n",
       "      <th>844</th>\n",
       "      <td>0.064564</td>\n",
       "      <td>0.039894</td>\n",
       "      <td>0.009807</td>\n",
       "      <td>0.001029</td>\n",
       "      <td>0.106765</td>\n",
       "      <td>0.057419</td>\n",
       "      <td>0.271096</td>\n",
       "      <td>0.011577</td>\n",
       "      <td>0.035280</td>\n",
       "      <td>0.001428</td>\n",
       "      <td>...</td>\n",
       "      <td>0.002120</td>\n",
       "      <td>0.006877</td>\n",
       "      <td>0.039763</td>\n",
       "      <td>0.093761</td>\n",
       "      <td>0.050158</td>\n",
       "      <td>0.000962</td>\n",
       "      <td>0.000473</td>\n",
       "      <td>0.132526</td>\n",
       "      <td>0.007845</td>\n",
       "      <td>0.004437</td>\n",
       "    </tr>\n",
       "    <tr>\n",
       "      <th>845</th>\n",
       "      <td>0.096588</td>\n",
       "      <td>0.053023</td>\n",
       "      <td>0.013728</td>\n",
       "      <td>0.001074</td>\n",
       "      <td>0.169499</td>\n",
       "      <td>0.077774</td>\n",
       "      <td>0.183276</td>\n",
       "      <td>0.013634</td>\n",
       "      <td>0.045317</td>\n",
       "      <td>0.001532</td>\n",
       "      <td>...</td>\n",
       "      <td>0.002203</td>\n",
       "      <td>0.008174</td>\n",
       "      <td>0.033206</td>\n",
       "      <td>0.089368</td>\n",
       "      <td>0.046377</td>\n",
       "      <td>0.001006</td>\n",
       "      <td>0.000514</td>\n",
       "      <td>0.102582</td>\n",
       "      <td>0.008855</td>\n",
       "      <td>0.004850</td>\n",
       "    </tr>\n",
       "    <tr>\n",
       "      <th>846</th>\n",
       "      <td>0.113317</td>\n",
       "      <td>0.098145</td>\n",
       "      <td>0.017261</td>\n",
       "      <td>0.001060</td>\n",
       "      <td>0.160436</td>\n",
       "      <td>0.057771</td>\n",
       "      <td>0.151103</td>\n",
       "      <td>0.014692</td>\n",
       "      <td>0.040049</td>\n",
       "      <td>0.001555</td>\n",
       "      <td>...</td>\n",
       "      <td>0.002024</td>\n",
       "      <td>0.009050</td>\n",
       "      <td>0.034284</td>\n",
       "      <td>0.066918</td>\n",
       "      <td>0.062421</td>\n",
       "      <td>0.001066</td>\n",
       "      <td>0.000551</td>\n",
       "      <td>0.112950</td>\n",
       "      <td>0.009915</td>\n",
       "      <td>0.004255</td>\n",
       "    </tr>\n",
       "    <tr>\n",
       "      <th>847</th>\n",
       "      <td>0.137165</td>\n",
       "      <td>0.060535</td>\n",
       "      <td>0.013468</td>\n",
       "      <td>0.001046</td>\n",
       "      <td>0.088494</td>\n",
       "      <td>0.070433</td>\n",
       "      <td>0.162062</td>\n",
       "      <td>0.011512</td>\n",
       "      <td>0.047140</td>\n",
       "      <td>0.001556</td>\n",
       "      <td>...</td>\n",
       "      <td>0.002098</td>\n",
       "      <td>0.007070</td>\n",
       "      <td>0.039465</td>\n",
       "      <td>0.059181</td>\n",
       "      <td>0.075509</td>\n",
       "      <td>0.001076</td>\n",
       "      <td>0.000525</td>\n",
       "      <td>0.141278</td>\n",
       "      <td>0.009733</td>\n",
       "      <td>0.004582</td>\n",
       "    </tr>\n",
       "    <tr>\n",
       "      <th>848</th>\n",
       "      <td>0.113009</td>\n",
       "      <td>0.034584</td>\n",
       "      <td>0.008530</td>\n",
       "      <td>0.000934</td>\n",
       "      <td>0.079150</td>\n",
       "      <td>0.089086</td>\n",
       "      <td>0.212898</td>\n",
       "      <td>0.008359</td>\n",
       "      <td>0.031313</td>\n",
       "      <td>0.001387</td>\n",
       "      <td>...</td>\n",
       "      <td>0.001929</td>\n",
       "      <td>0.005626</td>\n",
       "      <td>0.040160</td>\n",
       "      <td>0.063864</td>\n",
       "      <td>0.049163</td>\n",
       "      <td>0.000930</td>\n",
       "      <td>0.000453</td>\n",
       "      <td>0.185402</td>\n",
       "      <td>0.007884</td>\n",
       "      <td>0.004217</td>\n",
       "    </tr>\n",
       "  </tbody>\n",
       "</table>\n",
       "<p>849 rows × 22 columns</p>\n",
       "</div>"
      ],
      "text/plain": [
       "           0         1         2         3         4         5         6   \\\n",
       "0    0.068532  0.040278  0.011833  0.000913  0.171083  0.066526  0.259934   \n",
       "1    0.055984  0.040519  0.011922  0.000886  0.189141  0.068131  0.278344   \n",
       "2    0.138106  0.137024  0.015643  0.001139  0.069870  0.030674  0.170855   \n",
       "3    0.073917  0.039611  0.010640  0.000956  0.165377  0.072448  0.218542   \n",
       "4    0.166824  0.097849  0.013931  0.001048  0.077769  0.070226  0.161861   \n",
       "..        ...       ...       ...       ...       ...       ...       ...   \n",
       "844  0.064564  0.039894  0.009807  0.001029  0.106765  0.057419  0.271096   \n",
       "845  0.096588  0.053023  0.013728  0.001074  0.169499  0.077774  0.183276   \n",
       "846  0.113317  0.098145  0.017261  0.001060  0.160436  0.057771  0.151103   \n",
       "847  0.137165  0.060535  0.013468  0.001046  0.088494  0.070433  0.162062   \n",
       "848  0.113009  0.034584  0.008530  0.000934  0.079150  0.089086  0.212898   \n",
       "\n",
       "           7         8         9   ...        12        13        14  \\\n",
       "0    0.010724  0.028595  0.001442  ...  0.001777  0.006581  0.035774   \n",
       "1    0.010588  0.030696  0.001335  ...  0.001671  0.006519  0.035280   \n",
       "2    0.016937  0.056755  0.001685  ...  0.002361  0.009397  0.031959   \n",
       "3    0.010793  0.039481  0.001286  ...  0.001974  0.005524  0.031946   \n",
       "4    0.011879  0.040307  0.001558  ...  0.001933  0.008382  0.043444   \n",
       "..        ...       ...       ...  ...       ...       ...       ...   \n",
       "844  0.011577  0.035280  0.001428  ...  0.002120  0.006877  0.039763   \n",
       "845  0.013634  0.045317  0.001532  ...  0.002203  0.008174  0.033206   \n",
       "846  0.014692  0.040049  0.001555  ...  0.002024  0.009050  0.034284   \n",
       "847  0.011512  0.047140  0.001556  ...  0.002098  0.007070  0.039465   \n",
       "848  0.008359  0.031313  0.001387  ...  0.001929  0.005626  0.040160   \n",
       "\n",
       "           15        16        17        18        19        20        21  \n",
       "0    0.074414  0.039121  0.000983  0.000481  0.126457  0.008688  0.003634  \n",
       "1    0.098523  0.036453  0.000923  0.000457  0.090240  0.007831  0.003450  \n",
       "2    0.061394  0.097724  0.001074  0.000547  0.087976  0.011128  0.005696  \n",
       "3    0.111063  0.050492  0.000967  0.000459  0.108903  0.006964  0.004009  \n",
       "4    0.059232  0.068487  0.001085  0.000564  0.112205  0.010139  0.004383  \n",
       "..        ...       ...       ...       ...       ...       ...       ...  \n",
       "844  0.093761  0.050158  0.000962  0.000473  0.132526  0.007845  0.004437  \n",
       "845  0.089368  0.046377  0.001006  0.000514  0.102582  0.008855  0.004850  \n",
       "846  0.066918  0.062421  0.001066  0.000551  0.112950  0.009915  0.004255  \n",
       "847  0.059181  0.075509  0.001076  0.000525  0.141278  0.009733  0.004582  \n",
       "848  0.063864  0.049163  0.000930  0.000453  0.185402  0.007884  0.004217  \n",
       "\n",
       "[849 rows x 22 columns]"
      ]
     },
     "execution_count": 41,
     "metadata": {},
     "output_type": "execute_result"
    }
   ],
   "source": [
    "pd.DataFrame(predictions_test)"
   ]
  },
  {
   "cell_type": "code",
   "execution_count": 42,
   "metadata": {},
   "outputs": [
    {
     "data": {
      "text/html": [
       "<div>\n",
       "<style scoped>\n",
       "    .dataframe tbody tr th:only-of-type {\n",
       "        vertical-align: middle;\n",
       "    }\n",
       "\n",
       "    .dataframe tbody tr th {\n",
       "        vertical-align: top;\n",
       "    }\n",
       "\n",
       "    .dataframe thead th {\n",
       "        text-align: right;\n",
       "    }\n",
       "</style>\n",
       "<table border=\"1\" class=\"dataframe\">\n",
       "  <thead>\n",
       "    <tr style=\"text-align: right;\">\n",
       "      <th></th>\n",
       "      <th>File_Name</th>\n",
       "      <th>0</th>\n",
       "      <th>1</th>\n",
       "      <th>2</th>\n",
       "      <th>3</th>\n",
       "      <th>4</th>\n",
       "      <th>5</th>\n",
       "      <th>6</th>\n",
       "      <th>7</th>\n",
       "      <th>8</th>\n",
       "      <th>...</th>\n",
       "      <th>12</th>\n",
       "      <th>13</th>\n",
       "      <th>14</th>\n",
       "      <th>15</th>\n",
       "      <th>16</th>\n",
       "      <th>17</th>\n",
       "      <th>18</th>\n",
       "      <th>19</th>\n",
       "      <th>20</th>\n",
       "      <th>21</th>\n",
       "    </tr>\n",
       "  </thead>\n",
       "  <tbody>\n",
       "    <tr>\n",
       "      <th>0</th>\n",
       "      <td>file_2300.txt</td>\n",
       "      <td>0.254897</td>\n",
       "      <td>0.070870</td>\n",
       "      <td>0.034026</td>\n",
       "      <td>0.001088</td>\n",
       "      <td>0.076833</td>\n",
       "      <td>0.055085</td>\n",
       "      <td>0.108631</td>\n",
       "      <td>0.014625</td>\n",
       "      <td>0.040442</td>\n",
       "      <td>...</td>\n",
       "      <td>0.002126</td>\n",
       "      <td>0.007801</td>\n",
       "      <td>0.031488</td>\n",
       "      <td>0.047958</td>\n",
       "      <td>0.081665</td>\n",
       "      <td>0.001089</td>\n",
       "      <td>0.000549</td>\n",
       "      <td>0.103292</td>\n",
       "      <td>0.009705</td>\n",
       "      <td>0.004852</td>\n",
       "    </tr>\n",
       "    <tr>\n",
       "      <th>1</th>\n",
       "      <td>file_809.txt</td>\n",
       "      <td>0.072761</td>\n",
       "      <td>0.042652</td>\n",
       "      <td>0.011684</td>\n",
       "      <td>0.001046</td>\n",
       "      <td>0.128757</td>\n",
       "      <td>0.067255</td>\n",
       "      <td>0.234022</td>\n",
       "      <td>0.012940</td>\n",
       "      <td>0.034502</td>\n",
       "      <td>...</td>\n",
       "      <td>0.002092</td>\n",
       "      <td>0.007767</td>\n",
       "      <td>0.088627</td>\n",
       "      <td>0.070536</td>\n",
       "      <td>0.042840</td>\n",
       "      <td>0.001048</td>\n",
       "      <td>0.000524</td>\n",
       "      <td>0.114109</td>\n",
       "      <td>0.008936</td>\n",
       "      <td>0.004475</td>\n",
       "    </tr>\n",
       "    <tr>\n",
       "      <th>2</th>\n",
       "      <td>file_1383.txt</td>\n",
       "      <td>0.176885</td>\n",
       "      <td>0.055458</td>\n",
       "      <td>0.011611</td>\n",
       "      <td>0.000980</td>\n",
       "      <td>0.082053</td>\n",
       "      <td>0.046127</td>\n",
       "      <td>0.297048</td>\n",
       "      <td>0.011906</td>\n",
       "      <td>0.036915</td>\n",
       "      <td>...</td>\n",
       "      <td>0.001932</td>\n",
       "      <td>0.007315</td>\n",
       "      <td>0.030388</td>\n",
       "      <td>0.060440</td>\n",
       "      <td>0.041038</td>\n",
       "      <td>0.000975</td>\n",
       "      <td>0.000483</td>\n",
       "      <td>0.079213</td>\n",
       "      <td>0.009655</td>\n",
       "      <td>0.004332</td>\n",
       "    </tr>\n",
       "    <tr>\n",
       "      <th>3</th>\n",
       "      <td>file_983.txt</td>\n",
       "      <td>0.077208</td>\n",
       "      <td>0.040396</td>\n",
       "      <td>0.010318</td>\n",
       "      <td>0.000940</td>\n",
       "      <td>0.110868</td>\n",
       "      <td>0.069286</td>\n",
       "      <td>0.193717</td>\n",
       "      <td>0.011270</td>\n",
       "      <td>0.031018</td>\n",
       "      <td>...</td>\n",
       "      <td>0.001883</td>\n",
       "      <td>0.006810</td>\n",
       "      <td>0.031463</td>\n",
       "      <td>0.055402</td>\n",
       "      <td>0.040821</td>\n",
       "      <td>0.000947</td>\n",
       "      <td>0.000475</td>\n",
       "      <td>0.260130</td>\n",
       "      <td>0.008493</td>\n",
       "      <td>0.004113</td>\n",
       "    </tr>\n",
       "    <tr>\n",
       "      <th>4</th>\n",
       "      <td>file_1713.txt</td>\n",
       "      <td>0.108292</td>\n",
       "      <td>0.044440</td>\n",
       "      <td>0.010759</td>\n",
       "      <td>0.000963</td>\n",
       "      <td>0.081152</td>\n",
       "      <td>0.073162</td>\n",
       "      <td>0.174912</td>\n",
       "      <td>0.011675</td>\n",
       "      <td>0.032233</td>\n",
       "      <td>...</td>\n",
       "      <td>0.001917</td>\n",
       "      <td>0.007004</td>\n",
       "      <td>0.032439</td>\n",
       "      <td>0.050234</td>\n",
       "      <td>0.046141</td>\n",
       "      <td>0.000974</td>\n",
       "      <td>0.000484</td>\n",
       "      <td>0.264620</td>\n",
       "      <td>0.009009</td>\n",
       "      <td>0.004406</td>\n",
       "    </tr>\n",
       "  </tbody>\n",
       "</table>\n",
       "<p>5 rows × 23 columns</p>\n",
       "</div>"
      ],
      "text/plain": [
       "       File_Name         0         1         2         3         4         5  \\\n",
       "0  file_2300.txt  0.254897  0.070870  0.034026  0.001088  0.076833  0.055085   \n",
       "1   file_809.txt  0.072761  0.042652  0.011684  0.001046  0.128757  0.067255   \n",
       "2  file_1383.txt  0.176885  0.055458  0.011611  0.000980  0.082053  0.046127   \n",
       "3   file_983.txt  0.077208  0.040396  0.010318  0.000940  0.110868  0.069286   \n",
       "4  file_1713.txt  0.108292  0.044440  0.010759  0.000963  0.081152  0.073162   \n",
       "\n",
       "          6         7         8  ...        12        13        14        15  \\\n",
       "0  0.108631  0.014625  0.040442  ...  0.002126  0.007801  0.031488  0.047958   \n",
       "1  0.234022  0.012940  0.034502  ...  0.002092  0.007767  0.088627  0.070536   \n",
       "2  0.297048  0.011906  0.036915  ...  0.001932  0.007315  0.030388  0.060440   \n",
       "3  0.193717  0.011270  0.031018  ...  0.001883  0.006810  0.031463  0.055402   \n",
       "4  0.174912  0.011675  0.032233  ...  0.001917  0.007004  0.032439  0.050234   \n",
       "\n",
       "         16        17        18        19        20        21  \n",
       "0  0.081665  0.001089  0.000549  0.103292  0.009705  0.004852  \n",
       "1  0.042840  0.001048  0.000524  0.114109  0.008936  0.004475  \n",
       "2  0.041038  0.000975  0.000483  0.079213  0.009655  0.004332  \n",
       "3  0.040821  0.000947  0.000475  0.260130  0.008493  0.004113  \n",
       "4  0.046141  0.000974  0.000484  0.264620  0.009009  0.004406  \n",
       "\n",
       "[5 rows x 23 columns]"
      ]
     },
     "execution_count": 42,
     "metadata": {},
     "output_type": "execute_result"
    }
   ],
   "source": [
    "pd.read_excel(\"Movie_Scripts_Sample_Submission.xlsx\").head()"
   ]
  },
  {
   "cell_type": "code",
   "execution_count": 43,
   "metadata": {},
   "outputs": [],
   "source": [
    "pred = pd.DataFrame(predictions_test)"
   ]
  },
  {
   "cell_type": "code",
   "execution_count": 44,
   "metadata": {},
   "outputs": [],
   "source": [
    "pred['File_Name'] = test['File_Name']"
   ]
  },
  {
   "cell_type": "code",
   "execution_count": 45,
   "metadata": {},
   "outputs": [
    {
     "data": {
      "text/html": [
       "<div>\n",
       "<style scoped>\n",
       "    .dataframe tbody tr th:only-of-type {\n",
       "        vertical-align: middle;\n",
       "    }\n",
       "\n",
       "    .dataframe tbody tr th {\n",
       "        vertical-align: top;\n",
       "    }\n",
       "\n",
       "    .dataframe thead th {\n",
       "        text-align: right;\n",
       "    }\n",
       "</style>\n",
       "<table border=\"1\" class=\"dataframe\">\n",
       "  <thead>\n",
       "    <tr style=\"text-align: right;\">\n",
       "      <th></th>\n",
       "      <th>0</th>\n",
       "      <th>1</th>\n",
       "      <th>2</th>\n",
       "      <th>3</th>\n",
       "      <th>4</th>\n",
       "      <th>5</th>\n",
       "      <th>6</th>\n",
       "      <th>7</th>\n",
       "      <th>8</th>\n",
       "      <th>9</th>\n",
       "      <th>...</th>\n",
       "      <th>13</th>\n",
       "      <th>14</th>\n",
       "      <th>15</th>\n",
       "      <th>16</th>\n",
       "      <th>17</th>\n",
       "      <th>18</th>\n",
       "      <th>19</th>\n",
       "      <th>20</th>\n",
       "      <th>21</th>\n",
       "      <th>File_Name</th>\n",
       "    </tr>\n",
       "  </thead>\n",
       "  <tbody>\n",
       "    <tr>\n",
       "      <th>0</th>\n",
       "      <td>0.068532</td>\n",
       "      <td>0.040278</td>\n",
       "      <td>0.011833</td>\n",
       "      <td>0.000913</td>\n",
       "      <td>0.171083</td>\n",
       "      <td>0.066526</td>\n",
       "      <td>0.259934</td>\n",
       "      <td>0.010724</td>\n",
       "      <td>0.028595</td>\n",
       "      <td>0.001442</td>\n",
       "      <td>...</td>\n",
       "      <td>0.006581</td>\n",
       "      <td>0.035774</td>\n",
       "      <td>0.074414</td>\n",
       "      <td>0.039121</td>\n",
       "      <td>0.000983</td>\n",
       "      <td>0.000481</td>\n",
       "      <td>0.126457</td>\n",
       "      <td>0.008688</td>\n",
       "      <td>0.003634</td>\n",
       "      <td>file_2300.txt</td>\n",
       "    </tr>\n",
       "    <tr>\n",
       "      <th>1</th>\n",
       "      <td>0.055984</td>\n",
       "      <td>0.040519</td>\n",
       "      <td>0.011922</td>\n",
       "      <td>0.000886</td>\n",
       "      <td>0.189141</td>\n",
       "      <td>0.068131</td>\n",
       "      <td>0.278344</td>\n",
       "      <td>0.010588</td>\n",
       "      <td>0.030696</td>\n",
       "      <td>0.001335</td>\n",
       "      <td>...</td>\n",
       "      <td>0.006519</td>\n",
       "      <td>0.035280</td>\n",
       "      <td>0.098523</td>\n",
       "      <td>0.036453</td>\n",
       "      <td>0.000923</td>\n",
       "      <td>0.000457</td>\n",
       "      <td>0.090240</td>\n",
       "      <td>0.007831</td>\n",
       "      <td>0.003450</td>\n",
       "      <td>file_809.txt</td>\n",
       "    </tr>\n",
       "    <tr>\n",
       "      <th>2</th>\n",
       "      <td>0.138106</td>\n",
       "      <td>0.137024</td>\n",
       "      <td>0.015643</td>\n",
       "      <td>0.001139</td>\n",
       "      <td>0.069870</td>\n",
       "      <td>0.030674</td>\n",
       "      <td>0.170855</td>\n",
       "      <td>0.016937</td>\n",
       "      <td>0.056755</td>\n",
       "      <td>0.001685</td>\n",
       "      <td>...</td>\n",
       "      <td>0.009397</td>\n",
       "      <td>0.031959</td>\n",
       "      <td>0.061394</td>\n",
       "      <td>0.097724</td>\n",
       "      <td>0.001074</td>\n",
       "      <td>0.000547</td>\n",
       "      <td>0.087976</td>\n",
       "      <td>0.011128</td>\n",
       "      <td>0.005696</td>\n",
       "      <td>file_1383.txt</td>\n",
       "    </tr>\n",
       "    <tr>\n",
       "      <th>3</th>\n",
       "      <td>0.073917</td>\n",
       "      <td>0.039611</td>\n",
       "      <td>0.010640</td>\n",
       "      <td>0.000956</td>\n",
       "      <td>0.165377</td>\n",
       "      <td>0.072448</td>\n",
       "      <td>0.218542</td>\n",
       "      <td>0.010793</td>\n",
       "      <td>0.039481</td>\n",
       "      <td>0.001286</td>\n",
       "      <td>...</td>\n",
       "      <td>0.005524</td>\n",
       "      <td>0.031946</td>\n",
       "      <td>0.111063</td>\n",
       "      <td>0.050492</td>\n",
       "      <td>0.000967</td>\n",
       "      <td>0.000459</td>\n",
       "      <td>0.108903</td>\n",
       "      <td>0.006964</td>\n",
       "      <td>0.004009</td>\n",
       "      <td>file_983.txt</td>\n",
       "    </tr>\n",
       "    <tr>\n",
       "      <th>4</th>\n",
       "      <td>0.166824</td>\n",
       "      <td>0.097849</td>\n",
       "      <td>0.013931</td>\n",
       "      <td>0.001048</td>\n",
       "      <td>0.077769</td>\n",
       "      <td>0.070226</td>\n",
       "      <td>0.161861</td>\n",
       "      <td>0.011879</td>\n",
       "      <td>0.040307</td>\n",
       "      <td>0.001558</td>\n",
       "      <td>...</td>\n",
       "      <td>0.008382</td>\n",
       "      <td>0.043444</td>\n",
       "      <td>0.059232</td>\n",
       "      <td>0.068487</td>\n",
       "      <td>0.001085</td>\n",
       "      <td>0.000564</td>\n",
       "      <td>0.112205</td>\n",
       "      <td>0.010139</td>\n",
       "      <td>0.004383</td>\n",
       "      <td>file_1713.txt</td>\n",
       "    </tr>\n",
       "  </tbody>\n",
       "</table>\n",
       "<p>5 rows × 23 columns</p>\n",
       "</div>"
      ],
      "text/plain": [
       "          0         1         2         3         4         5         6  \\\n",
       "0  0.068532  0.040278  0.011833  0.000913  0.171083  0.066526  0.259934   \n",
       "1  0.055984  0.040519  0.011922  0.000886  0.189141  0.068131  0.278344   \n",
       "2  0.138106  0.137024  0.015643  0.001139  0.069870  0.030674  0.170855   \n",
       "3  0.073917  0.039611  0.010640  0.000956  0.165377  0.072448  0.218542   \n",
       "4  0.166824  0.097849  0.013931  0.001048  0.077769  0.070226  0.161861   \n",
       "\n",
       "          7         8         9  ...        13        14        15        16  \\\n",
       "0  0.010724  0.028595  0.001442  ...  0.006581  0.035774  0.074414  0.039121   \n",
       "1  0.010588  0.030696  0.001335  ...  0.006519  0.035280  0.098523  0.036453   \n",
       "2  0.016937  0.056755  0.001685  ...  0.009397  0.031959  0.061394  0.097724   \n",
       "3  0.010793  0.039481  0.001286  ...  0.005524  0.031946  0.111063  0.050492   \n",
       "4  0.011879  0.040307  0.001558  ...  0.008382  0.043444  0.059232  0.068487   \n",
       "\n",
       "         17        18        19        20        21      File_Name  \n",
       "0  0.000983  0.000481  0.126457  0.008688  0.003634  file_2300.txt  \n",
       "1  0.000923  0.000457  0.090240  0.007831  0.003450   file_809.txt  \n",
       "2  0.001074  0.000547  0.087976  0.011128  0.005696  file_1383.txt  \n",
       "3  0.000967  0.000459  0.108903  0.006964  0.004009   file_983.txt  \n",
       "4  0.001085  0.000564  0.112205  0.010139  0.004383  file_1713.txt  \n",
       "\n",
       "[5 rows x 23 columns]"
      ]
     },
     "execution_count": 45,
     "metadata": {},
     "output_type": "execute_result"
    }
   ],
   "source": [
    "pred.head()"
   ]
  },
  {
   "cell_type": "code",
   "execution_count": 46,
   "metadata": {},
   "outputs": [],
   "source": [
    "col_order = [i for i in range(0,22)]\n",
    "col_order.insert(0, 'File_Name')\n",
    "pred = pred[col_order]"
   ]
  },
  {
   "cell_type": "code",
   "execution_count": 47,
   "metadata": {},
   "outputs": [
    {
     "data": {
      "text/html": [
       "<div>\n",
       "<style scoped>\n",
       "    .dataframe tbody tr th:only-of-type {\n",
       "        vertical-align: middle;\n",
       "    }\n",
       "\n",
       "    .dataframe tbody tr th {\n",
       "        vertical-align: top;\n",
       "    }\n",
       "\n",
       "    .dataframe thead th {\n",
       "        text-align: right;\n",
       "    }\n",
       "</style>\n",
       "<table border=\"1\" class=\"dataframe\">\n",
       "  <thead>\n",
       "    <tr style=\"text-align: right;\">\n",
       "      <th></th>\n",
       "      <th>File_Name</th>\n",
       "      <th>0</th>\n",
       "      <th>1</th>\n",
       "      <th>2</th>\n",
       "      <th>3</th>\n",
       "      <th>4</th>\n",
       "      <th>5</th>\n",
       "      <th>6</th>\n",
       "      <th>7</th>\n",
       "      <th>8</th>\n",
       "      <th>...</th>\n",
       "      <th>12</th>\n",
       "      <th>13</th>\n",
       "      <th>14</th>\n",
       "      <th>15</th>\n",
       "      <th>16</th>\n",
       "      <th>17</th>\n",
       "      <th>18</th>\n",
       "      <th>19</th>\n",
       "      <th>20</th>\n",
       "      <th>21</th>\n",
       "    </tr>\n",
       "  </thead>\n",
       "  <tbody>\n",
       "    <tr>\n",
       "      <th>0</th>\n",
       "      <td>file_2300.txt</td>\n",
       "      <td>0.068532</td>\n",
       "      <td>0.040278</td>\n",
       "      <td>0.011833</td>\n",
       "      <td>0.000913</td>\n",
       "      <td>0.171083</td>\n",
       "      <td>0.066526</td>\n",
       "      <td>0.259934</td>\n",
       "      <td>0.010724</td>\n",
       "      <td>0.028595</td>\n",
       "      <td>...</td>\n",
       "      <td>0.001777</td>\n",
       "      <td>0.006581</td>\n",
       "      <td>0.035774</td>\n",
       "      <td>0.074414</td>\n",
       "      <td>0.039121</td>\n",
       "      <td>0.000983</td>\n",
       "      <td>0.000481</td>\n",
       "      <td>0.126457</td>\n",
       "      <td>0.008688</td>\n",
       "      <td>0.003634</td>\n",
       "    </tr>\n",
       "    <tr>\n",
       "      <th>1</th>\n",
       "      <td>file_809.txt</td>\n",
       "      <td>0.055984</td>\n",
       "      <td>0.040519</td>\n",
       "      <td>0.011922</td>\n",
       "      <td>0.000886</td>\n",
       "      <td>0.189141</td>\n",
       "      <td>0.068131</td>\n",
       "      <td>0.278344</td>\n",
       "      <td>0.010588</td>\n",
       "      <td>0.030696</td>\n",
       "      <td>...</td>\n",
       "      <td>0.001671</td>\n",
       "      <td>0.006519</td>\n",
       "      <td>0.035280</td>\n",
       "      <td>0.098523</td>\n",
       "      <td>0.036453</td>\n",
       "      <td>0.000923</td>\n",
       "      <td>0.000457</td>\n",
       "      <td>0.090240</td>\n",
       "      <td>0.007831</td>\n",
       "      <td>0.003450</td>\n",
       "    </tr>\n",
       "    <tr>\n",
       "      <th>2</th>\n",
       "      <td>file_1383.txt</td>\n",
       "      <td>0.138106</td>\n",
       "      <td>0.137024</td>\n",
       "      <td>0.015643</td>\n",
       "      <td>0.001139</td>\n",
       "      <td>0.069870</td>\n",
       "      <td>0.030674</td>\n",
       "      <td>0.170855</td>\n",
       "      <td>0.016937</td>\n",
       "      <td>0.056755</td>\n",
       "      <td>...</td>\n",
       "      <td>0.002361</td>\n",
       "      <td>0.009397</td>\n",
       "      <td>0.031959</td>\n",
       "      <td>0.061394</td>\n",
       "      <td>0.097724</td>\n",
       "      <td>0.001074</td>\n",
       "      <td>0.000547</td>\n",
       "      <td>0.087976</td>\n",
       "      <td>0.011128</td>\n",
       "      <td>0.005696</td>\n",
       "    </tr>\n",
       "    <tr>\n",
       "      <th>3</th>\n",
       "      <td>file_983.txt</td>\n",
       "      <td>0.073917</td>\n",
       "      <td>0.039611</td>\n",
       "      <td>0.010640</td>\n",
       "      <td>0.000956</td>\n",
       "      <td>0.165377</td>\n",
       "      <td>0.072448</td>\n",
       "      <td>0.218542</td>\n",
       "      <td>0.010793</td>\n",
       "      <td>0.039481</td>\n",
       "      <td>...</td>\n",
       "      <td>0.001974</td>\n",
       "      <td>0.005524</td>\n",
       "      <td>0.031946</td>\n",
       "      <td>0.111063</td>\n",
       "      <td>0.050492</td>\n",
       "      <td>0.000967</td>\n",
       "      <td>0.000459</td>\n",
       "      <td>0.108903</td>\n",
       "      <td>0.006964</td>\n",
       "      <td>0.004009</td>\n",
       "    </tr>\n",
       "    <tr>\n",
       "      <th>4</th>\n",
       "      <td>file_1713.txt</td>\n",
       "      <td>0.166824</td>\n",
       "      <td>0.097849</td>\n",
       "      <td>0.013931</td>\n",
       "      <td>0.001048</td>\n",
       "      <td>0.077769</td>\n",
       "      <td>0.070226</td>\n",
       "      <td>0.161861</td>\n",
       "      <td>0.011879</td>\n",
       "      <td>0.040307</td>\n",
       "      <td>...</td>\n",
       "      <td>0.001933</td>\n",
       "      <td>0.008382</td>\n",
       "      <td>0.043444</td>\n",
       "      <td>0.059232</td>\n",
       "      <td>0.068487</td>\n",
       "      <td>0.001085</td>\n",
       "      <td>0.000564</td>\n",
       "      <td>0.112205</td>\n",
       "      <td>0.010139</td>\n",
       "      <td>0.004383</td>\n",
       "    </tr>\n",
       "  </tbody>\n",
       "</table>\n",
       "<p>5 rows × 23 columns</p>\n",
       "</div>"
      ],
      "text/plain": [
       "       File_Name         0         1         2         3         4         5  \\\n",
       "0  file_2300.txt  0.068532  0.040278  0.011833  0.000913  0.171083  0.066526   \n",
       "1   file_809.txt  0.055984  0.040519  0.011922  0.000886  0.189141  0.068131   \n",
       "2  file_1383.txt  0.138106  0.137024  0.015643  0.001139  0.069870  0.030674   \n",
       "3   file_983.txt  0.073917  0.039611  0.010640  0.000956  0.165377  0.072448   \n",
       "4  file_1713.txt  0.166824  0.097849  0.013931  0.001048  0.077769  0.070226   \n",
       "\n",
       "          6         7         8  ...        12        13        14        15  \\\n",
       "0  0.259934  0.010724  0.028595  ...  0.001777  0.006581  0.035774  0.074414   \n",
       "1  0.278344  0.010588  0.030696  ...  0.001671  0.006519  0.035280  0.098523   \n",
       "2  0.170855  0.016937  0.056755  ...  0.002361  0.009397  0.031959  0.061394   \n",
       "3  0.218542  0.010793  0.039481  ...  0.001974  0.005524  0.031946  0.111063   \n",
       "4  0.161861  0.011879  0.040307  ...  0.001933  0.008382  0.043444  0.059232   \n",
       "\n",
       "         16        17        18        19        20        21  \n",
       "0  0.039121  0.000983  0.000481  0.126457  0.008688  0.003634  \n",
       "1  0.036453  0.000923  0.000457  0.090240  0.007831  0.003450  \n",
       "2  0.097724  0.001074  0.000547  0.087976  0.011128  0.005696  \n",
       "3  0.050492  0.000967  0.000459  0.108903  0.006964  0.004009  \n",
       "4  0.068487  0.001085  0.000564  0.112205  0.010139  0.004383  \n",
       "\n",
       "[5 rows x 23 columns]"
      ]
     },
     "execution_count": 47,
     "metadata": {},
     "output_type": "execute_result"
    }
   ],
   "source": [
    "pred.head()"
   ]
  },
  {
   "cell_type": "code",
   "execution_count": 48,
   "metadata": {},
   "outputs": [],
   "source": [
    "pred.to_excel(\"/Users/amalnair/Documents/Amal-WorkSpace/MachineHack_Competitions/MovieScriptsClassification/Submission_1.xlsx\", index = False)"
   ]
  },
  {
   "cell_type": "markdown",
   "metadata": {},
   "source": [
    "Log Loss Obtained : 3.664717654"
   ]
  },
  {
   "cell_type": "markdown",
   "metadata": {},
   "source": [
    "<h3 style=\"color:#ff4782;\">5.1. Predicting With Engineered Feature</h3>\n"
   ]
  },
  {
   "cell_type": "code",
   "execution_count": 49,
   "metadata": {},
   "outputs": [
    {
     "data": {
      "text/plain": [
       "scipy.sparse.csr.csr_matrix"
      ]
     },
     "execution_count": 49,
     "metadata": {},
     "output_type": "execute_result"
    }
   ],
   "source": [
    "type(xtrain_tfv)"
   ]
  },
  {
   "cell_type": "code",
   "execution_count": 50,
   "metadata": {},
   "outputs": [],
   "source": [
    "from scipy import sparse \n",
    "xtrain_tfv_scount = sparse.hstack((xtrain_tfv,train.Script_Length.values[:,None])).A"
   ]
  },
  {
   "cell_type": "code",
   "execution_count": 51,
   "metadata": {},
   "outputs": [
    {
     "data": {
      "text/plain": [
       "(1978, 101)"
      ]
     },
     "execution_count": 51,
     "metadata": {},
     "output_type": "execute_result"
    }
   ],
   "source": [
    "xtrain_tfv_scount.shape"
   ]
  },
  {
   "cell_type": "code",
   "execution_count": 52,
   "metadata": {},
   "outputs": [],
   "source": [
    "xtest_tfv_scount = sparse.hstack((xtest_tfv,test.Script_Length.values[:,None])).A"
   ]
  },
  {
   "cell_type": "code",
   "execution_count": 53,
   "metadata": {},
   "outputs": [
    {
     "data": {
      "text/plain": [
       "(849, 101)"
      ]
     },
     "execution_count": 53,
     "metadata": {},
     "output_type": "execute_result"
    }
   ],
   "source": [
    "xtest_tfv_scount.shape"
   ]
  },
  {
   "cell_type": "code",
   "execution_count": 54,
   "metadata": {},
   "outputs": [
    {
     "data": {
      "text/plain": [
       "'\\nfrom sklearn.preprocessing import StandardScaler\\nsc = StandardScaler()\\nsc.fit_transform(xtrain_tfv_scount)\\nsc.fit_transform(xtest_tfv_scount)\\n'"
      ]
     },
     "execution_count": 54,
     "metadata": {},
     "output_type": "execute_result"
    }
   ],
   "source": [
    "#scaling\n",
    "\"\"\"\n",
    "from sklearn.preprocessing import StandardScaler\n",
    "sc = StandardScaler()\n",
    "sc.fit_transform(xtrain_tfv_scount)\n",
    "sc.fit_transform(xtest_tfv_scount)\n",
    "\"\"\""
   ]
  },
  {
   "cell_type": "code",
   "execution_count": 55,
   "metadata": {},
   "outputs": [
    {
     "data": {
      "text/plain": [
       "LogisticRegression(C=1.0, class_weight=None, dual=False, fit_intercept=True,\n",
       "                   intercept_scaling=1, l1_ratio=None, max_iter=100,\n",
       "                   multi_class='auto', n_jobs=None, penalty='l2',\n",
       "                   random_state=None, solver='lbfgs', tol=0.0001, verbose=0,\n",
       "                   warm_start=False)"
      ]
     },
     "execution_count": 55,
     "metadata": {},
     "output_type": "execute_result"
    }
   ],
   "source": [
    "# Fitting a simple Logistic Regression on TFIDF\n",
    "clf_3 = LogisticRegression(C=1.0)\n",
    "clf_3.fit(xtrain_tfv_scount, ytrain)"
   ]
  },
  {
   "cell_type": "code",
   "execution_count": 56,
   "metadata": {},
   "outputs": [],
   "source": [
    "predictions_test_1 = clf_3.predict_proba(xtest_tfv_scount)"
   ]
  },
  {
   "cell_type": "code",
   "execution_count": 57,
   "metadata": {},
   "outputs": [],
   "source": [
    "pred2 = pd.DataFrame(predictions_test_1)"
   ]
  },
  {
   "cell_type": "code",
   "execution_count": 58,
   "metadata": {},
   "outputs": [
    {
     "data": {
      "text/html": [
       "<div>\n",
       "<style scoped>\n",
       "    .dataframe tbody tr th:only-of-type {\n",
       "        vertical-align: middle;\n",
       "    }\n",
       "\n",
       "    .dataframe tbody tr th {\n",
       "        vertical-align: top;\n",
       "    }\n",
       "\n",
       "    .dataframe thead th {\n",
       "        text-align: right;\n",
       "    }\n",
       "</style>\n",
       "<table border=\"1\" class=\"dataframe\">\n",
       "  <thead>\n",
       "    <tr style=\"text-align: right;\">\n",
       "      <th></th>\n",
       "      <th>0</th>\n",
       "      <th>1</th>\n",
       "      <th>2</th>\n",
       "      <th>3</th>\n",
       "      <th>4</th>\n",
       "      <th>5</th>\n",
       "      <th>6</th>\n",
       "      <th>7</th>\n",
       "      <th>8</th>\n",
       "      <th>9</th>\n",
       "      <th>...</th>\n",
       "      <th>12</th>\n",
       "      <th>13</th>\n",
       "      <th>14</th>\n",
       "      <th>15</th>\n",
       "      <th>16</th>\n",
       "      <th>17</th>\n",
       "      <th>18</th>\n",
       "      <th>19</th>\n",
       "      <th>20</th>\n",
       "      <th>21</th>\n",
       "    </tr>\n",
       "  </thead>\n",
       "  <tbody>\n",
       "    <tr>\n",
       "      <th>0</th>\n",
       "      <td>0.089780</td>\n",
       "      <td>0.065871</td>\n",
       "      <td>0.022790</td>\n",
       "      <td>0.006252</td>\n",
       "      <td>0.098027</td>\n",
       "      <td>0.077452</td>\n",
       "      <td>0.131448</td>\n",
       "      <td>0.024349</td>\n",
       "      <td>0.050167</td>\n",
       "      <td>0.007512</td>\n",
       "      <td>...</td>\n",
       "      <td>0.009650</td>\n",
       "      <td>0.016708</td>\n",
       "      <td>0.054479</td>\n",
       "      <td>0.071466</td>\n",
       "      <td>0.062417</td>\n",
       "      <td>0.001690</td>\n",
       "      <td>0.003004</td>\n",
       "      <td>0.102983</td>\n",
       "      <td>0.023515</td>\n",
       "      <td>0.016911</td>\n",
       "    </tr>\n",
       "    <tr>\n",
       "      <th>1</th>\n",
       "      <td>0.105486</td>\n",
       "      <td>0.057256</td>\n",
       "      <td>0.007051</td>\n",
       "      <td>0.000549</td>\n",
       "      <td>0.125460</td>\n",
       "      <td>0.078816</td>\n",
       "      <td>0.223828</td>\n",
       "      <td>0.008035</td>\n",
       "      <td>0.033453</td>\n",
       "      <td>0.000789</td>\n",
       "      <td>...</td>\n",
       "      <td>0.001293</td>\n",
       "      <td>0.003822</td>\n",
       "      <td>0.039364</td>\n",
       "      <td>0.067249</td>\n",
       "      <td>0.051484</td>\n",
       "      <td>0.000042</td>\n",
       "      <td>0.000129</td>\n",
       "      <td>0.138285</td>\n",
       "      <td>0.007501</td>\n",
       "      <td>0.003913</td>\n",
       "    </tr>\n",
       "    <tr>\n",
       "      <th>2</th>\n",
       "      <td>0.106210</td>\n",
       "      <td>0.055054</td>\n",
       "      <td>0.005789</td>\n",
       "      <td>0.000372</td>\n",
       "      <td>0.127982</td>\n",
       "      <td>0.077632</td>\n",
       "      <td>0.238513</td>\n",
       "      <td>0.006662</td>\n",
       "      <td>0.030889</td>\n",
       "      <td>0.000549</td>\n",
       "      <td>...</td>\n",
       "      <td>0.000935</td>\n",
       "      <td>0.002996</td>\n",
       "      <td>0.036796</td>\n",
       "      <td>0.065451</td>\n",
       "      <td>0.049108</td>\n",
       "      <td>0.000023</td>\n",
       "      <td>0.000079</td>\n",
       "      <td>0.142104</td>\n",
       "      <td>0.006188</td>\n",
       "      <td>0.003074</td>\n",
       "    </tr>\n",
       "    <tr>\n",
       "      <th>3</th>\n",
       "      <td>0.053527</td>\n",
       "      <td>0.051166</td>\n",
       "      <td>0.043836</td>\n",
       "      <td>0.036307</td>\n",
       "      <td>0.054217</td>\n",
       "      <td>0.052387</td>\n",
       "      <td>0.056584</td>\n",
       "      <td>0.044260</td>\n",
       "      <td>0.049176</td>\n",
       "      <td>0.037291</td>\n",
       "      <td>...</td>\n",
       "      <td>0.038677</td>\n",
       "      <td>0.041898</td>\n",
       "      <td>0.049770</td>\n",
       "      <td>0.051777</td>\n",
       "      <td>0.050766</td>\n",
       "      <td>0.030008</td>\n",
       "      <td>0.032630</td>\n",
       "      <td>0.054608</td>\n",
       "      <td>0.044036</td>\n",
       "      <td>0.041971</td>\n",
       "    </tr>\n",
       "    <tr>\n",
       "      <th>4</th>\n",
       "      <td>0.106577</td>\n",
       "      <td>0.052932</td>\n",
       "      <td>0.004807</td>\n",
       "      <td>0.000258</td>\n",
       "      <td>0.129993</td>\n",
       "      <td>0.076328</td>\n",
       "      <td>0.252277</td>\n",
       "      <td>0.005583</td>\n",
       "      <td>0.028602</td>\n",
       "      <td>0.000391</td>\n",
       "      <td>...</td>\n",
       "      <td>0.000689</td>\n",
       "      <td>0.002384</td>\n",
       "      <td>0.034462</td>\n",
       "      <td>0.063640</td>\n",
       "      <td>0.046866</td>\n",
       "      <td>0.000013</td>\n",
       "      <td>0.000049</td>\n",
       "      <td>0.145323</td>\n",
       "      <td>0.005160</td>\n",
       "      <td>0.002449</td>\n",
       "    </tr>\n",
       "  </tbody>\n",
       "</table>\n",
       "<p>5 rows × 22 columns</p>\n",
       "</div>"
      ],
      "text/plain": [
       "         0         1         2         3         4         5         6   \\\n",
       "0  0.089780  0.065871  0.022790  0.006252  0.098027  0.077452  0.131448   \n",
       "1  0.105486  0.057256  0.007051  0.000549  0.125460  0.078816  0.223828   \n",
       "2  0.106210  0.055054  0.005789  0.000372  0.127982  0.077632  0.238513   \n",
       "3  0.053527  0.051166  0.043836  0.036307  0.054217  0.052387  0.056584   \n",
       "4  0.106577  0.052932  0.004807  0.000258  0.129993  0.076328  0.252277   \n",
       "\n",
       "         7         8         9   ...        12        13        14        15  \\\n",
       "0  0.024349  0.050167  0.007512  ...  0.009650  0.016708  0.054479  0.071466   \n",
       "1  0.008035  0.033453  0.000789  ...  0.001293  0.003822  0.039364  0.067249   \n",
       "2  0.006662  0.030889  0.000549  ...  0.000935  0.002996  0.036796  0.065451   \n",
       "3  0.044260  0.049176  0.037291  ...  0.038677  0.041898  0.049770  0.051777   \n",
       "4  0.005583  0.028602  0.000391  ...  0.000689  0.002384  0.034462  0.063640   \n",
       "\n",
       "         16        17        18        19        20        21  \n",
       "0  0.062417  0.001690  0.003004  0.102983  0.023515  0.016911  \n",
       "1  0.051484  0.000042  0.000129  0.138285  0.007501  0.003913  \n",
       "2  0.049108  0.000023  0.000079  0.142104  0.006188  0.003074  \n",
       "3  0.050766  0.030008  0.032630  0.054608  0.044036  0.041971  \n",
       "4  0.046866  0.000013  0.000049  0.145323  0.005160  0.002449  \n",
       "\n",
       "[5 rows x 22 columns]"
      ]
     },
     "execution_count": 58,
     "metadata": {},
     "output_type": "execute_result"
    }
   ],
   "source": [
    "pred2.head()"
   ]
  },
  {
   "cell_type": "code",
   "execution_count": 59,
   "metadata": {},
   "outputs": [],
   "source": [
    "pred2['File_Name'] = test['File_Name']"
   ]
  },
  {
   "cell_type": "code",
   "execution_count": 60,
   "metadata": {},
   "outputs": [],
   "source": [
    "pred2 = pred2[col_order]"
   ]
  },
  {
   "cell_type": "code",
   "execution_count": 61,
   "metadata": {},
   "outputs": [],
   "source": [
    "pred2.to_excel(\"/Users/amalnair/Documents/Amal-WorkSpace/MachineHack_Competitions/MovieScriptsClassification/submission_2.xlsx\", index = False)"
   ]
  },
  {
   "cell_type": "markdown",
   "metadata": {},
   "source": [
    "Log Loss Obtained : 3.620526608\n",
    "\n",
    "Log Loss Obtained After Scaling : 6.303138373"
   ]
  }
 ],
 "metadata": {
  "accelerator": "GPU",
  "colab": {
   "collapsed_sections": [],
   "name": "Starter Notebook - Movie Genre Classification",
   "provenance": []
  },
  "kernelspec": {
   "display_name": "Python 3",
   "language": "python",
   "name": "python3"
  },
  "language_info": {
   "codemirror_mode": {
    "name": "ipython",
    "version": 3
   },
   "file_extension": ".py",
   "mimetype": "text/x-python",
   "name": "python",
   "nbconvert_exporter": "python",
   "pygments_lexer": "ipython3",
   "version": "3.8.0"
  }
 },
 "nbformat": 4,
 "nbformat_minor": 1
}
